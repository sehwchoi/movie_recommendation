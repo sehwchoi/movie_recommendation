{
  "nbformat": 4,
  "nbformat_minor": 0,
  "metadata": {
    "kernelspec": {
      "display_name": "Python 3",
      "language": "python",
      "name": "python3"
    },
    "language_info": {
      "codemirror_mode": {
        "name": "ipython",
        "version": 3
      },
      "file_extension": ".py",
      "mimetype": "text/x-python",
      "name": "python",
      "nbconvert_exporter": "python",
      "pygments_lexer": "ipython3",
      "version": "3.6.8"
    },
    "colab": {
      "name": "Amazon Movie Recommendation.ipynb",
      "provenance": [],
      "include_colab_link": true
    },
    "accelerator": "GPU"
  },
  "cells": [
    {
      "cell_type": "markdown",
      "metadata": {
        "id": "view-in-github",
        "colab_type": "text"
      },
      "source": [
        "<a href=\"https://colab.research.google.com/github/sehwchoi/movie_recommendation/blob/main/Amazon_Movie_Recommendation.ipynb\" target=\"_parent\"><img src=\"https://colab.research.google.com/assets/colab-badge.svg\" alt=\"Open In Colab\"/></a>"
      ]
    },
    {
      "cell_type": "code",
      "metadata": {
        "id": "UlsObKeMp_WC"
      },
      "source": [
        "!pip install surprise"
      ],
      "execution_count": null,
      "outputs": []
    },
    {
      "cell_type": "code",
      "metadata": {
        "id": "san38NMepCPn"
      },
      "source": [
        "import pandas as pd\n",
        "import numpy as np\n",
        "import matplotlib.mlab as mlab\n",
        "\n",
        "# Visualization\n",
        "import matplotlib.pyplot as plt\n",
        "import seaborn as sns\n",
        "\n",
        "# Surprise library for collaborative filtering algorithm\n",
        "from surprise import *\n",
        "from surprise.model_selection import GridSearchCV\n",
        "from surprise.accuracy import rmse, mae, fcp\n",
        "from surprise.model_selection import cross_validate\n",
        "\n",
        "# Others\n",
        "import pickle\n",
        "import json\n",
        "from os import listdir\n"
      ],
      "execution_count": null,
      "outputs": []
    },
    {
      "cell_type": "code",
      "metadata": {
        "colab": {
          "base_uri": "https://localhost:8080/"
        },
        "id": "vF5_b424pCPt",
        "outputId": "b3fcfe64-f501-464f-b55b-1bf6548808bf"
      },
      "source": [
        "import sklearn\n",
        "print(sklearn.__version__)"
      ],
      "execution_count": null,
      "outputs": [
        {
          "output_type": "stream",
          "name": "stdout",
          "text": [
            "1.0.2\n"
          ]
        }
      ]
    },
    {
      "cell_type": "code",
      "metadata": {
        "colab": {
          "base_uri": "https://localhost:8080/"
        },
        "id": "F5X31MpdpUJa",
        "outputId": "557b9b76-8f34-4c2f-9ee7-8965ba4b9c0c"
      },
      "source": [
        "# this project runs on Google Colab\n",
        "from google.colab import drive\n",
        "drive.mount('/content/drive')"
      ],
      "execution_count": null,
      "outputs": [
        {
          "output_type": "stream",
          "name": "stdout",
          "text": [
            "Mounted at /content/drive\n"
          ]
        }
      ]
    },
    {
      "cell_type": "code",
      "metadata": {
        "id": "l4ilB0qRpCPv"
      },
      "source": [
        "# train dataset is from http://jmcauley.ucsd.edu/data/amazon/\n",
        "# tran dataset consists of Amazon Movies & TV reviews datasets\n",
        "#train_df = pd.read_json('reviews.training.json', lines=True)\n",
        "#train_df.to_csv('reviews.train.csv')"
      ],
      "execution_count": null,
      "outputs": []
    },
    {
      "cell_type": "code",
      "metadata": {
        "id": "W-qnRvy1upZP"
      },
      "source": [
        "# load cleaned training data table\n",
        "file_path = '/content/drive/MyDrive/Colab Notebooks/reviews.train.csv'\n",
        "#train_df = pd.read_csv(file_path, names=[\"reviewerID\", \"asin\", \"overall\"])\n",
        "train_df = pd.read_csv(file_path)"
      ],
      "execution_count": null,
      "outputs": []
    },
    {
      "cell_type": "code",
      "source": [
        "print(train_df.dtypes)"
      ],
      "metadata": {
        "colab": {
          "base_uri": "https://localhost:8080/"
        },
        "id": "9_LQrJJIlh_X",
        "outputId": "e4fa4d00-e374-4c3f-aed3-3255af541b22"
      },
      "execution_count": null,
      "outputs": [
        {
          "output_type": "stream",
          "name": "stdout",
          "text": [
            "Unnamed: 0         int64\n",
            "asin              object\n",
            "helpful           object\n",
            "overall            int64\n",
            "reviewText        object\n",
            "reviewTime        object\n",
            "reviewerID        object\n",
            "reviewerName      object\n",
            "summary           object\n",
            "unixReviewTime     int64\n",
            "dtype: object\n"
          ]
        }
      ]
    },
    {
      "cell_type": "markdown",
      "metadata": {
        "id": "tdYeWfh1pCPv"
      },
      "source": [
        "# Data Exploratory "
      ]
    },
    {
      "cell_type": "code",
      "metadata": {
        "colab": {
          "base_uri": "https://localhost:8080/"
        },
        "id": "Tv-LzZhPpCPv",
        "outputId": "e8157554-1ce8-4c68-eb37-3d1f4d2be083"
      },
      "source": [
        "n_movies = train_df['asin'].nunique()\n",
        "n_users = train_df['reviewerID'].nunique()\n",
        "n_ratings = len(train_df)\n",
        "print(\"Total unique movies: %d\" % (n_movies))\n",
        "print(\"Total users: %d\" % (n_users))\n",
        "print(\"Total ratings: %d\" % (n_ratings))\n",
        "density = n_ratings / float(n_users * n_movies)\n",
        "print(\"Sparsity: %f\" % (1-density))\n"
      ],
      "execution_count": null,
      "outputs": [
        {
          "output_type": "stream",
          "name": "stdout",
          "text": [
            "Total unique movies: 50050\n",
            "Total users: 123952\n",
            "Total ratings: 1358026\n",
            "Sparsity: 0.999781\n"
          ]
        }
      ]
    },
    {
      "cell_type": "code",
      "metadata": {
        "id": "h2sWpLsrpCPw"
      },
      "source": [
        "train_df.sample(n=100)"
      ],
      "execution_count": null,
      "outputs": []
    },
    {
      "cell_type": "code",
      "metadata": {
        "colab": {
          "base_uri": "https://localhost:8080/"
        },
        "id": "8QtGaRX0pCPw",
        "outputId": "8752221b-e8e9-42bb-b74c-eb4bebebcf78"
      },
      "source": [
        "train_df['overall'].describe()"
      ],
      "execution_count": null,
      "outputs": [
        {
          "output_type": "execute_result",
          "data": {
            "text/plain": [
              "count    1.358026e+06\n",
              "mean     4.110995e+00\n",
              "std      1.197396e+00\n",
              "min      1.000000e+00\n",
              "25%      4.000000e+00\n",
              "50%      5.000000e+00\n",
              "75%      5.000000e+00\n",
              "max      5.000000e+00\n",
              "Name: overall, dtype: float64"
            ]
          },
          "metadata": {},
          "execution_count": 14
        }
      ]
    },
    {
      "cell_type": "code",
      "metadata": {
        "colab": {
          "base_uri": "https://localhost:8080/"
        },
        "id": "PzDciJ_2pCPx",
        "outputId": "94cf0451-227a-4f08-aa8d-0e3a21b38784"
      },
      "source": [
        "train_df.dtypes"
      ],
      "execution_count": null,
      "outputs": [
        {
          "output_type": "execute_result",
          "data": {
            "text/plain": [
              "reviewerID    object\n",
              "asin          object\n",
              "overall        int64\n",
              "dtype: object"
            ]
          },
          "metadata": {
            "tags": []
          },
          "execution_count": 13
        }
      ]
    },
    {
      "cell_type": "code",
      "metadata": {
        "colab": {
          "base_uri": "https://localhost:8080/"
        },
        "id": "jMfRrDqrpCPx",
        "outputId": "919d82c7-7067-4d85-aade-09913ec7fa13"
      },
      "source": [
        "# check if there is any null values in train dataset\n",
        "train_df.isnull().sum()"
      ],
      "execution_count": null,
      "outputs": [
        {
          "output_type": "execute_result",
          "data": {
            "text/plain": [
              "Unnamed: 0           0\n",
              "asin                 0\n",
              "helpful              0\n",
              "overall              0\n",
              "reviewText          53\n",
              "reviewTime           0\n",
              "reviewerID           0\n",
              "reviewerName      4900\n",
              "summary             22\n",
              "unixReviewTime       0\n",
              "dtype: int64"
            ]
          },
          "metadata": {},
          "execution_count": 17
        }
      ]
    },
    {
      "cell_type": "code",
      "metadata": {
        "colab": {
          "base_uri": "https://localhost:8080/",
          "height": 279
        },
        "id": "o7v3E4HWpCPy",
        "outputId": "7e168a3d-17fe-492b-f31d-5a03d4fd29b0"
      },
      "source": [
        "# rating distributions\n",
        "ax = sns.countplot(x=\"overall\",data=train_df)"
      ],
      "execution_count": null,
      "outputs": [
        {
          "output_type": "display_data",
          "data": {
            "text/plain": [
              "<Figure size 432x288 with 1 Axes>"
            ],
            "image/png": "[encoded data removed]"
          },
          "metadata": {
            "needs_background": "light"
          }
        }
      ]
    },
    {
      "cell_type": "markdown",
      "metadata": {
        "id": "QPVZCrAgg6H1"
      },
      "source": [
        "- Training dataset includes 1,358,026 ratings, and there are  50050 unique movies and 123952 unique users.\n",
        "- Rating distribution shows users usually rated a movie 4 or 5 when they write a review.\n",
        "- More than 75% of the rating data were 4 or 5 rates."
      ]
    },
    {
      "cell_type": "markdown",
      "metadata": {
        "id": "Vfh9_EQUiyXn"
      },
      "source": [
        "## Number of rated movies per user"
      ]
    },
    {
      "cell_type": "code",
      "metadata": {
        "colab": {
          "base_uri": "https://localhost:8080/",
          "height": 238
        },
        "id": "nMlLdwE6pCPy",
        "outputId": "595df987-6aeb-4c5a-a335-7c52a5425eca"
      },
      "source": [
        "# number of rated movies per user distributions\n",
        "# most of users rated one or two movies? might be skewed\n",
        "ratings_per_user_count = pd.DataFrame(train_df.groupby('reviewerID')['overall'].mean())\n",
        "ratings_per_user_count['ratings_per_user'] = pd.DataFrame(train_df.groupby('reviewerID')['overall'].count())\n",
        "ratings_per_user_count.head()"
      ],
      "execution_count": null,
      "outputs": [
        {
          "output_type": "execute_result",
          "data": {
            "text/plain": [
              "                       overall  ratings_per_user\n",
              "reviewerID                                      \n",
              "A00295401U6S2UG3RAQSZ     4.00                 5\n",
              "A00348066Q1WEW5BMESN      5.00                 5\n",
              "A0040548BPHKXMHH3NTI      3.50                 8\n",
              "A00438023NNXSDBGXK56L     3.25                 4\n",
              "A0048168OBFNFN7WW8XC      5.00                 7"
            ],
            "text/html": [
              "\n",
              "  <div id=\"df-add463e7-561d-4e5e-9ecb-45dcfdd9ca26\">\n",
              "    <div class=\"colab-df-container\">\n",
              "      <div>\n",
              "<style scoped>\n",
              "    .dataframe tbody tr th:only-of-type {\n",
              "        vertical-align: middle;\n",
              "    }\n",
              "\n",
              "    .dataframe tbody tr th {\n",
              "        vertical-align: top;\n",
              "    }\n",
              "\n",
              "    .dataframe thead th {\n",
              "        text-align: right;\n",
              "    }\n",
              "</style>\n",
              "<table border=\"1\" class=\"dataframe\">\n",
              "  <thead>\n",
              "    <tr style=\"text-align: right;\">\n",
              "      <th></th>\n",
              "      <th>overall</th>\n",
              "      <th>ratings_per_user</th>\n",
              "    </tr>\n",
              "    <tr>\n",
              "      <th>reviewerID</th>\n",
              "      <th></th>\n",
              "      <th></th>\n",
              "    </tr>\n",
              "  </thead>\n",
              "  <tbody>\n",
              "    <tr>\n",
              "      <th>A00295401U6S2UG3RAQSZ</th>\n",
              "      <td>4.00</td>\n",
              "      <td>5</td>\n",
              "    </tr>\n",
              "    <tr>\n",
              "      <th>A00348066Q1WEW5BMESN</th>\n",
              "      <td>5.00</td>\n",
              "      <td>5</td>\n",
              "    </tr>\n",
              "    <tr>\n",
              "      <th>A0040548BPHKXMHH3NTI</th>\n",
              "      <td>3.50</td>\n",
              "      <td>8</td>\n",
              "    </tr>\n",
              "    <tr>\n",
              "      <th>A00438023NNXSDBGXK56L</th>\n",
              "      <td>3.25</td>\n",
              "      <td>4</td>\n",
              "    </tr>\n",
              "    <tr>\n",
              "      <th>A0048168OBFNFN7WW8XC</th>\n",
              "      <td>5.00</td>\n",
              "      <td>7</td>\n",
              "    </tr>\n",
              "  </tbody>\n",
              "</table>\n",
              "</div>\n",
              "      <button class=\"colab-df-convert\" onclick=\"convertToInteractive('df-add463e7-561d-4e5e-9ecb-45dcfdd9ca26')\"\n",
              "              title=\"Convert this dataframe to an interactive table.\"\n",
              "              style=\"display:none;\">\n",
              "        \n",
              "  <svg xmlns=\"http://www.w3.org/2000/svg\" height=\"24px\"viewBox=\"0 0 24 24\"\n",
              "       width=\"24px\">\n",
              "    <path d=\"M0 0h24v24H0V0z\" fill=\"none\"/>\n",
              "    <path d=\"M18.56 5.44l.94 2.06.94-2.06 2.06-.94-2.06-.94-.94-2.06-.94 2.06-2.06.94zm-11 1L8.5 8.5l.94-2.06 2.06-.94-2.06-.94L8.5 2.5l-.94 2.06-2.06.94zm10 10l.94 2.06.94-2.06 2.06-.94-2.06-.94-.94-2.06-.94 2.06-2.06.94z\"/><path d=\"M17.41 7.96l-1.37-1.37c-.4-.4-.92-.59-1.43-.59-.52 0-1.04.2-1.43.59L10.3 9.45l-7.72 7.72c-.78.78-.78 2.05 0 2.83L4 21.41c.39.39.9.59 1.41.59.51 0 1.02-.2 1.41-.59l7.78-7.78 2.81-2.81c.8-.78.8-2.07 0-2.86zM5.41 20L4 18.59l7.72-7.72 1.47 1.35L5.41 20z\"/>\n",
              "  </svg>\n",
              "      </button>\n",
              "      \n",
              "  <style>\n",
              "    .colab-df-container {\n",
              "      display:flex;\n",
              "      flex-wrap:wrap;\n",
              "      gap: 12px;\n",
              "    }\n",
              "\n",
              "    .colab-df-convert {\n",
              "      background-color: #E8F0FE;\n",
              "      border: none;\n",
              "      border-radius: 50%;\n",
              "      cursor: pointer;\n",
              "      display: none;\n",
              "      fill: #1967D2;\n",
              "      height: 32px;\n",
              "      padding: 0 0 0 0;\n",
              "      width: 32px;\n",
              "    }\n",
              "\n",
              "    .colab-df-convert:hover {\n",
              "      background-color: #E2EBFA;\n",
              "      box-shadow: 0px 1px 2px rgba(60, 64, 67, 0.3), 0px 1px 3px 1px rgba(60, 64, 67, 0.15);\n",
              "      fill: #174EA6;\n",
              "    }\n",
              "\n",
              "    [theme=dark] .colab-df-convert {\n",
              "      background-color: #3B4455;\n",
              "      fill: #D2E3FC;\n",
              "    }\n",
              "\n",
              "    [theme=dark] .colab-df-convert:hover {\n",
              "      background-color: #434B5C;\n",
              "      box-shadow: 0px 1px 3px 1px rgba(0, 0, 0, 0.15);\n",
              "      filter: drop-shadow(0px 1px 2px rgba(0, 0, 0, 0.3));\n",
              "      fill: #FFFFFF;\n",
              "    }\n",
              "  </style>\n",
              "\n",
              "      <script>\n",
              "        const buttonEl =\n",
              "          document.querySelector('#df-add463e7-561d-4e5e-9ecb-45dcfdd9ca26 button.colab-df-convert');\n",
              "        buttonEl.style.display =\n",
              "          google.colab.kernel.accessAllowed ? 'block' : 'none';\n",
              "\n",
              "        async function convertToInteractive(key) {\n",
              "          const element = document.querySelector('#df-add463e7-561d-4e5e-9ecb-45dcfdd9ca26');\n",
              "          const dataTable =\n",
              "            await google.colab.kernel.invokeFunction('convertToInteractive',\n",
              "                                                     [key], {});\n",
              "          if (!dataTable) return;\n",
              "\n",
              "          const docLinkHtml = 'Like what you see? Visit the ' +\n",
              "            '<a target=\"_blank\" href=https://colab.research.google.com/notebooks/data_table.ipynb>data table notebook</a>'\n",
              "            + ' to learn more about interactive tables.';\n",
              "          element.innerHTML = '';\n",
              "          dataTable['output_type'] = 'display_data';\n",
              "          await google.colab.output.renderOutput(dataTable, element);\n",
              "          const docLink = document.createElement('div');\n",
              "          docLink.innerHTML = docLinkHtml;\n",
              "          element.appendChild(docLink);\n",
              "        }\n",
              "      </script>\n",
              "    </div>\n",
              "  </div>\n",
              "  "
            ]
          },
          "metadata": {},
          "execution_count": 19
        }
      ]
    },
    {
      "cell_type": "code",
      "metadata": {
        "colab": {
          "base_uri": "https://localhost:8080/",
          "height": 300
        },
        "id": "1ORqkaPIpCPy",
        "outputId": "5cef6698-448e-4c1d-b26b-d91808515ca0"
      },
      "source": [
        "ratings_per_user_count.describe()"
      ],
      "execution_count": null,
      "outputs": [
        {
          "output_type": "execute_result",
          "data": {
            "text/plain": [
              "             overall  ratings_per_user\n",
              "count  123952.000000     123952.000000\n",
              "mean        4.202063         10.956064\n",
              "std         0.729453         31.810722\n",
              "min         1.000000          1.000000\n",
              "25%         3.800000          4.000000\n",
              "50%         4.333333          6.000000\n",
              "75%         4.800000          9.000000\n",
              "max         5.000000       1879.000000"
            ],
            "text/html": [
              "\n",
              "  <div id=\"df-29ac4db5-ac13-4c99-a1f4-ece4897126c4\">\n",
              "    <div class=\"colab-df-container\">\n",
              "      <div>\n",
              "<style scoped>\n",
              "    .dataframe tbody tr th:only-of-type {\n",
              "        vertical-align: middle;\n",
              "    }\n",
              "\n",
              "    .dataframe tbody tr th {\n",
              "        vertical-align: top;\n",
              "    }\n",
              "\n",
              "    .dataframe thead th {\n",
              "        text-align: right;\n",
              "    }\n",
              "</style>\n",
              "<table border=\"1\" class=\"dataframe\">\n",
              "  <thead>\n",
              "    <tr style=\"text-align: right;\">\n",
              "      <th></th>\n",
              "      <th>overall</th>\n",
              "      <th>ratings_per_user</th>\n",
              "    </tr>\n",
              "  </thead>\n",
              "  <tbody>\n",
              "    <tr>\n",
              "      <th>count</th>\n",
              "      <td>123952.000000</td>\n",
              "      <td>123952.000000</td>\n",
              "    </tr>\n",
              "    <tr>\n",
              "      <th>mean</th>\n",
              "      <td>4.202063</td>\n",
              "      <td>10.956064</td>\n",
              "    </tr>\n",
              "    <tr>\n",
              "      <th>std</th>\n",
              "      <td>0.729453</td>\n",
              "      <td>31.810722</td>\n",
              "    </tr>\n",
              "    <tr>\n",
              "      <th>min</th>\n",
              "      <td>1.000000</td>\n",
              "      <td>1.000000</td>\n",
              "    </tr>\n",
              "    <tr>\n",
              "      <th>25%</th>\n",
              "      <td>3.800000</td>\n",
              "      <td>4.000000</td>\n",
              "    </tr>\n",
              "    <tr>\n",
              "      <th>50%</th>\n",
              "      <td>4.333333</td>\n",
              "      <td>6.000000</td>\n",
              "    </tr>\n",
              "    <tr>\n",
              "      <th>75%</th>\n",
              "      <td>4.800000</td>\n",
              "      <td>9.000000</td>\n",
              "    </tr>\n",
              "    <tr>\n",
              "      <th>max</th>\n",
              "      <td>5.000000</td>\n",
              "      <td>1879.000000</td>\n",
              "    </tr>\n",
              "  </tbody>\n",
              "</table>\n",
              "</div>\n",
              "      <button class=\"colab-df-convert\" onclick=\"convertToInteractive('df-29ac4db5-ac13-4c99-a1f4-ece4897126c4')\"\n",
              "              title=\"Convert this dataframe to an interactive table.\"\n",
              "              style=\"display:none;\">\n",
              "        \n",
              "  <svg xmlns=\"http://www.w3.org/2000/svg\" height=\"24px\"viewBox=\"0 0 24 24\"\n",
              "       width=\"24px\">\n",
              "    <path d=\"M0 0h24v24H0V0z\" fill=\"none\"/>\n",
              "    <path d=\"M18.56 5.44l.94 2.06.94-2.06 2.06-.94-2.06-.94-.94-2.06-.94 2.06-2.06.94zm-11 1L8.5 8.5l.94-2.06 2.06-.94-2.06-.94L8.5 2.5l-.94 2.06-2.06.94zm10 10l.94 2.06.94-2.06 2.06-.94-2.06-.94-.94-2.06-.94 2.06-2.06.94z\"/><path d=\"M17.41 7.96l-1.37-1.37c-.4-.4-.92-.59-1.43-.59-.52 0-1.04.2-1.43.59L10.3 9.45l-7.72 7.72c-.78.78-.78 2.05 0 2.83L4 21.41c.39.39.9.59 1.41.59.51 0 1.02-.2 1.41-.59l7.78-7.78 2.81-2.81c.8-.78.8-2.07 0-2.86zM5.41 20L4 18.59l7.72-7.72 1.47 1.35L5.41 20z\"/>\n",
              "  </svg>\n",
              "      </button>\n",
              "      \n",
              "  <style>\n",
              "    .colab-df-container {\n",
              "      display:flex;\n",
              "      flex-wrap:wrap;\n",
              "      gap: 12px;\n",
              "    }\n",
              "\n",
              "    .colab-df-convert {\n",
              "      background-color: #E8F0FE;\n",
              "      border: none;\n",
              "      border-radius: 50%;\n",
              "      cursor: pointer;\n",
              "      display: none;\n",
              "      fill: #1967D2;\n",
              "      height: 32px;\n",
              "      padding: 0 0 0 0;\n",
              "      width: 32px;\n",
              "    }\n",
              "\n",
              "    .colab-df-convert:hover {\n",
              "      background-color: #E2EBFA;\n",
              "      box-shadow: 0px 1px 2px rgba(60, 64, 67, 0.3), 0px 1px 3px 1px rgba(60, 64, 67, 0.15);\n",
              "      fill: #174EA6;\n",
              "    }\n",
              "\n",
              "    [theme=dark] .colab-df-convert {\n",
              "      background-color: #3B4455;\n",
              "      fill: #D2E3FC;\n",
              "    }\n",
              "\n",
              "    [theme=dark] .colab-df-convert:hover {\n",
              "      background-color: #434B5C;\n",
              "      box-shadow: 0px 1px 3px 1px rgba(0, 0, 0, 0.15);\n",
              "      filter: drop-shadow(0px 1px 2px rgba(0, 0, 0, 0.3));\n",
              "      fill: #FFFFFF;\n",
              "    }\n",
              "  </style>\n",
              "\n",
              "      <script>\n",
              "        const buttonEl =\n",
              "          document.querySelector('#df-29ac4db5-ac13-4c99-a1f4-ece4897126c4 button.colab-df-convert');\n",
              "        buttonEl.style.display =\n",
              "          google.colab.kernel.accessAllowed ? 'block' : 'none';\n",
              "\n",
              "        async function convertToInteractive(key) {\n",
              "          const element = document.querySelector('#df-29ac4db5-ac13-4c99-a1f4-ece4897126c4');\n",
              "          const dataTable =\n",
              "            await google.colab.kernel.invokeFunction('convertToInteractive',\n",
              "                                                     [key], {});\n",
              "          if (!dataTable) return;\n",
              "\n",
              "          const docLinkHtml = 'Like what you see? Visit the ' +\n",
              "            '<a target=\"_blank\" href=https://colab.research.google.com/notebooks/data_table.ipynb>data table notebook</a>'\n",
              "            + ' to learn more about interactive tables.';\n",
              "          element.innerHTML = '';\n",
              "          dataTable['output_type'] = 'display_data';\n",
              "          await google.colab.output.renderOutput(dataTable, element);\n",
              "          const docLink = document.createElement('div');\n",
              "          docLink.innerHTML = docLinkHtml;\n",
              "          element.appendChild(docLink);\n",
              "        }\n",
              "      </script>\n",
              "    </div>\n",
              "  </div>\n",
              "  "
            ]
          },
          "metadata": {},
          "execution_count": 20
        }
      ]
    },
    {
      "cell_type": "code",
      "metadata": {
        "colab": {
          "base_uri": "https://localhost:8080/"
        },
        "id": "Slm8Z3YppCPy",
        "outputId": "57d8f34b-ea7d-4aa6-b843-fea9c339dcf8"
      },
      "source": [
        "# 97 quantile to find the threhold for the outliers\n",
        "ratings_per_user_count.quantile(.97)"
      ],
      "execution_count": null,
      "outputs": [
        {
          "output_type": "execute_result",
          "data": {
            "text/plain": [
              "overall              5.0\n",
              "ratings_per_user    40.0\n",
              "Name: 0.97, dtype: float64"
            ]
          },
          "metadata": {
            "tags": []
          },
          "execution_count": 18
        }
      ]
    },
    {
      "cell_type": "code",
      "metadata": {
        "colab": {
          "base_uri": "https://localhost:8080/",
          "height": 391
        },
        "id": "yFXORAn5pCPz",
        "outputId": "71b73800-671f-40e5-b892-9099e9ce9254"
      },
      "source": [
        "# plot distribution over non outliers\n",
        "plt.xlim(left=0, right = 40)\n",
        "ratings_per_user_count['ratings_per_user'].hist(bins=1500, figsize=[16,6])"
      ],
      "execution_count": null,
      "outputs": [
        {
          "output_type": "execute_result",
          "data": {
            "text/plain": [
              "<matplotlib.axes._subplots.AxesSubplot at 0x7f571d161908>"
            ]
          },
          "metadata": {
            "tags": []
          },
          "execution_count": 19
        },
        {
          "output_type": "display_data",
          "data": {
            "image/png": "[encoded data removed]",
            "text/plain": [
              "<Figure size 1152x432 with 1 Axes>"
            ]
          },
          "metadata": {
            "tags": [],
            "needs_background": "light"
          }
        }
      ]
    },
    {
      "cell_type": "code",
      "metadata": {
        "colab": {
          "base_uri": "https://localhost:8080/",
          "height": 391
        },
        "id": "f1HZwjGDpCPz",
        "outputId": "70b5e5fe-ff16-4a01-f83e-9d967e69308f"
      },
      "source": [
        "# plot distribution over outliers \n",
        "ratings_per_user_count_outliers = ratings_per_user_count[ratings_per_user_count['ratings_per_user'] > 40]\n",
        "ratings_per_user_count_outliers['ratings_per_user'].hist(bins=200, figsize=[16,6])"
      ],
      "execution_count": null,
      "outputs": [
        {
          "output_type": "execute_result",
          "data": {
            "text/plain": [
              "<matplotlib.axes._subplots.AxesSubplot at 0x7f571bceb898>"
            ]
          },
          "metadata": {
            "tags": []
          },
          "execution_count": 20
        },
        {
          "output_type": "display_data",
          "data": {
            "image/png": "[encoded data removed]",
            "text/plain": [
              "<Figure size 1152x432 with 1 Axes>"
            ]
          },
          "metadata": {
            "tags": [],
            "needs_background": "light"
          }
        }
      ]
    },
    {
      "cell_type": "markdown",
      "metadata": {
        "id": "6n-IIWk-iwag"
      },
      "source": [
        "- Users in average rated 11 movies. Usually, users rated about 4~ 9 movies out of 50000 unique movies in the dataset. User who rated the most give ratings to 1879 movies.\n",
        "- The above plot shows that the number of rated movies per user is right-skewed distribution. 97% of users gave ratings below 40 movies.\n",
        "- Considering 50000 unique movies in the datset, this implies that they are a lot of missing data and a user-item matrix is very sparse."
      ]
    },
    {
      "cell_type": "markdown",
      "metadata": {
        "id": "CGJp-VfXkfrg"
      },
      "source": [
        "\n",
        "## Number of ratings per movie"
      ]
    },
    {
      "cell_type": "code",
      "metadata": {
        "colab": {
          "base_uri": "https://localhost:8080/",
          "height": 238
        },
        "id": "ket2P0C6pCPz",
        "outputId": "25294a5d-6ba2-4561-e9af-c80944bea509"
      },
      "source": [
        "# number of rated users per movie distributions\n",
        "# popular movies will get lots of ratings? might be highly skewed\n",
        "ratings_per_movie_count = pd.DataFrame(train_df.groupby('asin')['overall'].mean())\n",
        "ratings_per_movie_count['ratings_per_movie'] = pd.DataFrame(train_df.groupby('asin')['overall'].count())\n",
        "ratings_per_movie_count.head()"
      ],
      "execution_count": null,
      "outputs": [
        {
          "output_type": "execute_result",
          "data": {
            "text/plain": [
              "             overall  ratings_per_movie\n",
              "asin                                   \n",
              "0005019281  4.512195                 82\n",
              "0005119367  4.767123                 73\n",
              "0307141985  5.000000                  4\n",
              "0307142469  4.741935                 31\n",
              "0307142477  2.600000                  5"
            ],
            "text/html": [
              "\n",
              "  <div id=\"df-7ed145df-023b-4097-b741-f6d7ce20cda6\">\n",
              "    <div class=\"colab-df-container\">\n",
              "      <div>\n",
              "<style scoped>\n",
              "    .dataframe tbody tr th:only-of-type {\n",
              "        vertical-align: middle;\n",
              "    }\n",
              "\n",
              "    .dataframe tbody tr th {\n",
              "        vertical-align: top;\n",
              "    }\n",
              "\n",
              "    .dataframe thead th {\n",
              "        text-align: right;\n",
              "    }\n",
              "</style>\n",
              "<table border=\"1\" class=\"dataframe\">\n",
              "  <thead>\n",
              "    <tr style=\"text-align: right;\">\n",
              "      <th></th>\n",
              "      <th>overall</th>\n",
              "      <th>ratings_per_movie</th>\n",
              "    </tr>\n",
              "    <tr>\n",
              "      <th>asin</th>\n",
              "      <th></th>\n",
              "      <th></th>\n",
              "    </tr>\n",
              "  </thead>\n",
              "  <tbody>\n",
              "    <tr>\n",
              "      <th>0005019281</th>\n",
              "      <td>4.512195</td>\n",
              "      <td>82</td>\n",
              "    </tr>\n",
              "    <tr>\n",
              "      <th>0005119367</th>\n",
              "      <td>4.767123</td>\n",
              "      <td>73</td>\n",
              "    </tr>\n",
              "    <tr>\n",
              "      <th>0307141985</th>\n",
              "      <td>5.000000</td>\n",
              "      <td>4</td>\n",
              "    </tr>\n",
              "    <tr>\n",
              "      <th>0307142469</th>\n",
              "      <td>4.741935</td>\n",
              "      <td>31</td>\n",
              "    </tr>\n",
              "    <tr>\n",
              "      <th>0307142477</th>\n",
              "      <td>2.600000</td>\n",
              "      <td>5</td>\n",
              "    </tr>\n",
              "  </tbody>\n",
              "</table>\n",
              "</div>\n",
              "      <button class=\"colab-df-convert\" onclick=\"convertToInteractive('df-7ed145df-023b-4097-b741-f6d7ce20cda6')\"\n",
              "              title=\"Convert this dataframe to an interactive table.\"\n",
              "              style=\"display:none;\">\n",
              "        \n",
              "  <svg xmlns=\"http://www.w3.org/2000/svg\" height=\"24px\"viewBox=\"0 0 24 24\"\n",
              "       width=\"24px\">\n",
              "    <path d=\"M0 0h24v24H0V0z\" fill=\"none\"/>\n",
              "    <path d=\"M18.56 5.44l.94 2.06.94-2.06 2.06-.94-2.06-.94-.94-2.06-.94 2.06-2.06.94zm-11 1L8.5 8.5l.94-2.06 2.06-.94-2.06-.94L8.5 2.5l-.94 2.06-2.06.94zm10 10l.94 2.06.94-2.06 2.06-.94-2.06-.94-.94-2.06-.94 2.06-2.06.94z\"/><path d=\"M17.41 7.96l-1.37-1.37c-.4-.4-.92-.59-1.43-.59-.52 0-1.04.2-1.43.59L10.3 9.45l-7.72 7.72c-.78.78-.78 2.05 0 2.83L4 21.41c.39.39.9.59 1.41.59.51 0 1.02-.2 1.41-.59l7.78-7.78 2.81-2.81c.8-.78.8-2.07 0-2.86zM5.41 20L4 18.59l7.72-7.72 1.47 1.35L5.41 20z\"/>\n",
              "  </svg>\n",
              "      </button>\n",
              "      \n",
              "  <style>\n",
              "    .colab-df-container {\n",
              "      display:flex;\n",
              "      flex-wrap:wrap;\n",
              "      gap: 12px;\n",
              "    }\n",
              "\n",
              "    .colab-df-convert {\n",
              "      background-color: #E8F0FE;\n",
              "      border: none;\n",
              "      border-radius: 50%;\n",
              "      cursor: pointer;\n",
              "      display: none;\n",
              "      fill: #1967D2;\n",
              "      height: 32px;\n",
              "      padding: 0 0 0 0;\n",
              "      width: 32px;\n",
              "    }\n",
              "\n",
              "    .colab-df-convert:hover {\n",
              "      background-color: #E2EBFA;\n",
              "      box-shadow: 0px 1px 2px rgba(60, 64, 67, 0.3), 0px 1px 3px 1px rgba(60, 64, 67, 0.15);\n",
              "      fill: #174EA6;\n",
              "    }\n",
              "\n",
              "    [theme=dark] .colab-df-convert {\n",
              "      background-color: #3B4455;\n",
              "      fill: #D2E3FC;\n",
              "    }\n",
              "\n",
              "    [theme=dark] .colab-df-convert:hover {\n",
              "      background-color: #434B5C;\n",
              "      box-shadow: 0px 1px 3px 1px rgba(0, 0, 0, 0.15);\n",
              "      filter: drop-shadow(0px 1px 2px rgba(0, 0, 0, 0.3));\n",
              "      fill: #FFFFFF;\n",
              "    }\n",
              "  </style>\n",
              "\n",
              "      <script>\n",
              "        const buttonEl =\n",
              "          document.querySelector('#df-7ed145df-023b-4097-b741-f6d7ce20cda6 button.colab-df-convert');\n",
              "        buttonEl.style.display =\n",
              "          google.colab.kernel.accessAllowed ? 'block' : 'none';\n",
              "\n",
              "        async function convertToInteractive(key) {\n",
              "          const element = document.querySelector('#df-7ed145df-023b-4097-b741-f6d7ce20cda6');\n",
              "          const dataTable =\n",
              "            await google.colab.kernel.invokeFunction('convertToInteractive',\n",
              "                                                     [key], {});\n",
              "          if (!dataTable) return;\n",
              "\n",
              "          const docLinkHtml = 'Like what you see? Visit the ' +\n",
              "            '<a target=\"_blank\" href=https://colab.research.google.com/notebooks/data_table.ipynb>data table notebook</a>'\n",
              "            + ' to learn more about interactive tables.';\n",
              "          element.innerHTML = '';\n",
              "          dataTable['output_type'] = 'display_data';\n",
              "          await google.colab.output.renderOutput(dataTable, element);\n",
              "          const docLink = document.createElement('div');\n",
              "          docLink.innerHTML = docLinkHtml;\n",
              "          element.appendChild(docLink);\n",
              "        }\n",
              "      </script>\n",
              "    </div>\n",
              "  </div>\n",
              "  "
            ]
          },
          "metadata": {},
          "execution_count": 17
        }
      ]
    },
    {
      "cell_type": "code",
      "metadata": {
        "colab": {
          "base_uri": "https://localhost:8080/",
          "height": 300
        },
        "id": "2C9h6DPhpCPz",
        "outputId": "d4a3c092-4f62-441b-8ecc-5effebdd6105"
      },
      "source": [
        "ratings_per_movie_count.describe()"
      ],
      "execution_count": null,
      "outputs": [
        {
          "output_type": "execute_result",
          "data": {
            "text/plain": [
              "            overall  ratings_per_movie\n",
              "count  50050.000000       50050.000000\n",
              "mean       4.063479          27.133387\n",
              "std        0.687280          58.769294\n",
              "min        1.000000           1.000000\n",
              "25%        3.700000           6.000000\n",
              "50%        4.200000          10.000000\n",
              "75%        4.577778          23.000000\n",
              "max        5.000000        1785.000000"
            ],
            "text/html": [
              "\n",
              "  <div id=\"df-45628cfa-a51e-4db2-8306-8768cfd67177\">\n",
              "    <div class=\"colab-df-container\">\n",
              "      <div>\n",
              "<style scoped>\n",
              "    .dataframe tbody tr th:only-of-type {\n",
              "        vertical-align: middle;\n",
              "    }\n",
              "\n",
              "    .dataframe tbody tr th {\n",
              "        vertical-align: top;\n",
              "    }\n",
              "\n",
              "    .dataframe thead th {\n",
              "        text-align: right;\n",
              "    }\n",
              "</style>\n",
              "<table border=\"1\" class=\"dataframe\">\n",
              "  <thead>\n",
              "    <tr style=\"text-align: right;\">\n",
              "      <th></th>\n",
              "      <th>overall</th>\n",
              "      <th>ratings_per_movie</th>\n",
              "    </tr>\n",
              "  </thead>\n",
              "  <tbody>\n",
              "    <tr>\n",
              "      <th>count</th>\n",
              "      <td>50050.000000</td>\n",
              "      <td>50050.000000</td>\n",
              "    </tr>\n",
              "    <tr>\n",
              "      <th>mean</th>\n",
              "      <td>4.063479</td>\n",
              "      <td>27.133387</td>\n",
              "    </tr>\n",
              "    <tr>\n",
              "      <th>std</th>\n",
              "      <td>0.687280</td>\n",
              "      <td>58.769294</td>\n",
              "    </tr>\n",
              "    <tr>\n",
              "      <th>min</th>\n",
              "      <td>1.000000</td>\n",
              "      <td>1.000000</td>\n",
              "    </tr>\n",
              "    <tr>\n",
              "      <th>25%</th>\n",
              "      <td>3.700000</td>\n",
              "      <td>6.000000</td>\n",
              "    </tr>\n",
              "    <tr>\n",
              "      <th>50%</th>\n",
              "      <td>4.200000</td>\n",
              "      <td>10.000000</td>\n",
              "    </tr>\n",
              "    <tr>\n",
              "      <th>75%</th>\n",
              "      <td>4.577778</td>\n",
              "      <td>23.000000</td>\n",
              "    </tr>\n",
              "    <tr>\n",
              "      <th>max</th>\n",
              "      <td>5.000000</td>\n",
              "      <td>1785.000000</td>\n",
              "    </tr>\n",
              "  </tbody>\n",
              "</table>\n",
              "</div>\n",
              "      <button class=\"colab-df-convert\" onclick=\"convertToInteractive('df-45628cfa-a51e-4db2-8306-8768cfd67177')\"\n",
              "              title=\"Convert this dataframe to an interactive table.\"\n",
              "              style=\"display:none;\">\n",
              "        \n",
              "  <svg xmlns=\"http://www.w3.org/2000/svg\" height=\"24px\"viewBox=\"0 0 24 24\"\n",
              "       width=\"24px\">\n",
              "    <path d=\"M0 0h24v24H0V0z\" fill=\"none\"/>\n",
              "    <path d=\"M18.56 5.44l.94 2.06.94-2.06 2.06-.94-2.06-.94-.94-2.06-.94 2.06-2.06.94zm-11 1L8.5 8.5l.94-2.06 2.06-.94-2.06-.94L8.5 2.5l-.94 2.06-2.06.94zm10 10l.94 2.06.94-2.06 2.06-.94-2.06-.94-.94-2.06-.94 2.06-2.06.94z\"/><path d=\"M17.41 7.96l-1.37-1.37c-.4-.4-.92-.59-1.43-.59-.52 0-1.04.2-1.43.59L10.3 9.45l-7.72 7.72c-.78.78-.78 2.05 0 2.83L4 21.41c.39.39.9.59 1.41.59.51 0 1.02-.2 1.41-.59l7.78-7.78 2.81-2.81c.8-.78.8-2.07 0-2.86zM5.41 20L4 18.59l7.72-7.72 1.47 1.35L5.41 20z\"/>\n",
              "  </svg>\n",
              "      </button>\n",
              "      \n",
              "  <style>\n",
              "    .colab-df-container {\n",
              "      display:flex;\n",
              "      flex-wrap:wrap;\n",
              "      gap: 12px;\n",
              "    }\n",
              "\n",
              "    .colab-df-convert {\n",
              "      background-color: #E8F0FE;\n",
              "      border: none;\n",
              "      border-radius: 50%;\n",
              "      cursor: pointer;\n",
              "      display: none;\n",
              "      fill: #1967D2;\n",
              "      height: 32px;\n",
              "      padding: 0 0 0 0;\n",
              "      width: 32px;\n",
              "    }\n",
              "\n",
              "    .colab-df-convert:hover {\n",
              "      background-color: #E2EBFA;\n",
              "      box-shadow: 0px 1px 2px rgba(60, 64, 67, 0.3), 0px 1px 3px 1px rgba(60, 64, 67, 0.15);\n",
              "      fill: #174EA6;\n",
              "    }\n",
              "\n",
              "    [theme=dark] .colab-df-convert {\n",
              "      background-color: #3B4455;\n",
              "      fill: #D2E3FC;\n",
              "    }\n",
              "\n",
              "    [theme=dark] .colab-df-convert:hover {\n",
              "      background-color: #434B5C;\n",
              "      box-shadow: 0px 1px 3px 1px rgba(0, 0, 0, 0.15);\n",
              "      filter: drop-shadow(0px 1px 2px rgba(0, 0, 0, 0.3));\n",
              "      fill: #FFFFFF;\n",
              "    }\n",
              "  </style>\n",
              "\n",
              "      <script>\n",
              "        const buttonEl =\n",
              "          document.querySelector('#df-45628cfa-a51e-4db2-8306-8768cfd67177 button.colab-df-convert');\n",
              "        buttonEl.style.display =\n",
              "          google.colab.kernel.accessAllowed ? 'block' : 'none';\n",
              "\n",
              "        async function convertToInteractive(key) {\n",
              "          const element = document.querySelector('#df-45628cfa-a51e-4db2-8306-8768cfd67177');\n",
              "          const dataTable =\n",
              "            await google.colab.kernel.invokeFunction('convertToInteractive',\n",
              "                                                     [key], {});\n",
              "          if (!dataTable) return;\n",
              "\n",
              "          const docLinkHtml = 'Like what you see? Visit the ' +\n",
              "            '<a target=\"_blank\" href=https://colab.research.google.com/notebooks/data_table.ipynb>data table notebook</a>'\n",
              "            + ' to learn more about interactive tables.';\n",
              "          element.innerHTML = '';\n",
              "          dataTable['output_type'] = 'display_data';\n",
              "          await google.colab.output.renderOutput(dataTable, element);\n",
              "          const docLink = document.createElement('div');\n",
              "          docLink.innerHTML = docLinkHtml;\n",
              "          element.appendChild(docLink);\n",
              "        }\n",
              "      </script>\n",
              "    </div>\n",
              "  </div>\n",
              "  "
            ]
          },
          "metadata": {},
          "execution_count": 18
        }
      ]
    },
    {
      "cell_type": "code",
      "metadata": {
        "colab": {
          "base_uri": "https://localhost:8080/"
        },
        "id": "idlXOx8RpCP0",
        "outputId": "568046ae-a15b-4172-92e7-8fd4436d9878"
      },
      "source": [
        "ratings_per_movie_count.quantile(0.97)"
      ],
      "execution_count": null,
      "outputs": [
        {
          "output_type": "execute_result",
          "data": {
            "text/plain": [
              "overall                5.00\n",
              "ratings_per_movie    151.53\n",
              "Name: 0.97, dtype: float64"
            ]
          },
          "metadata": {},
          "execution_count": 19
        }
      ]
    },
    {
      "cell_type": "code",
      "metadata": {
        "colab": {
          "base_uri": "https://localhost:8080/",
          "height": 391
        },
        "id": "GVmP_QjypCP0",
        "outputId": "6b3885a7-e5ef-449d-aee6-cd393ecdd545"
      },
      "source": [
        "# plot distribution over non-outliers\n",
        "plt.xlim(left=0, right = 152)\n",
        "ratings_per_movie_count['ratings_per_movie'].hist(bins=1500, figsize=[16,6])"
      ],
      "execution_count": null,
      "outputs": [
        {
          "output_type": "execute_result",
          "data": {
            "text/plain": [
              "<matplotlib.axes._subplots.AxesSubplot at 0x7f571aa1df28>"
            ]
          },
          "metadata": {
            "tags": []
          },
          "execution_count": 24
        },
        {
          "output_type": "display_data",
          "data": {
            "image/png": "[encoded data removed]",
            "text/plain": [
              "<Figure size 1152x432 with 1 Axes>"
            ]
          },
          "metadata": {
            "tags": [],
            "needs_background": "light"
          }
        }
      ]
    },
    {
      "cell_type": "code",
      "metadata": {
        "colab": {
          "base_uri": "https://localhost:8080/",
          "height": 391
        },
        "id": "46kZm4zvpCP0",
        "outputId": "f7d073d4-59af-46ab-cb09-a6d28ac51cb6"
      },
      "source": [
        "# plot distribution over outliers \n",
        "ratings_per_movie_count_outliers = ratings_per_movie_count[ratings_per_movie_count['ratings_per_movie'] > 152]\n",
        "ratings_per_movie_count_outliers['ratings_per_movie'].hist(bins=200, figsize=[16,6])"
      ],
      "execution_count": null,
      "outputs": [
        {
          "output_type": "execute_result",
          "data": {
            "text/plain": [
              "<matplotlib.axes._subplots.AxesSubplot at 0x7f571d1502e8>"
            ]
          },
          "metadata": {
            "tags": []
          },
          "execution_count": 25
        },
        {
          "output_type": "display_data",
          "data": {
            "image/png": "[encoded data removed]",
            "text/plain": [
              "<Figure size 1152x432 with 1 Axes>"
            ]
          },
          "metadata": {
            "tags": [],
            "needs_background": "light"
          }
        }
      ]
    },
    {
      "cell_type": "markdown",
      "metadata": {
        "id": "CIGw_Bx7kbWn"
      },
      "source": [
        "- Movie in average received 27 ratings. Most movies got ratings from 6 to 23. A movie which got most ratings received 1785 rates.\n",
        "- Ratings per movie distribution is right-skewed as well. 97% of movies only got below 23 ratings. \n",
        "- This indicates that most of movies have missing ratings over users and  a user-item matrix would be a sparse matrix.\n"
      ]
    },
    {
      "cell_type": "markdown",
      "source": [
        "## Number of ratings over years"
      ],
      "metadata": {
        "id": "ajDlsyHYTyTR"
      }
    },
    {
      "cell_type": "code",
      "source": [
        "train_df['reviewTime'] = pd.to_datetime(train_df['reviewTime'])"
      ],
      "metadata": {
        "id": "CLVvXRrQpWMn"
      },
      "execution_count": null,
      "outputs": []
    },
    {
      "cell_type": "code",
      "source": [
        "ratings_per_year_count = pd.DataFrame(train_df.groupby(train_df[\"reviewTime\"].dt.year)['overall'].mean())\n",
        "ratings_per_year_count['ratings_per_year'] = pd.DataFrame(train_df.groupby(train_df[\"reviewTime\"].dt.year)['overall'].count())\n",
        "print(ratings_per_year_count)"
      ],
      "metadata": {
        "colab": {
          "base_uri": "https://localhost:8080/"
        },
        "id": "rtSlhdx1mwSf",
        "outputId": "96822460-a726-4fb5-e8ba-6f0da7a1e751"
      },
      "execution_count": null,
      "outputs": [
        {
          "output_type": "stream",
          "name": "stdout",
          "text": [
            "             overall  ratings_per_year\n",
            "reviewTime                            \n",
            "1997        5.000000                 8\n",
            "1998        4.118132               364\n",
            "1999        4.004944              5259\n",
            "2000        4.029570             27934\n",
            "2001        4.008232             32069\n",
            "2002        4.014124             39295\n",
            "2003        4.000661             42365\n",
            "2004        3.956143             58622\n",
            "2005        3.955332             71102\n",
            "2006        3.978294             68597\n",
            "2007        4.061633             77978\n",
            "2008        3.986360             73902\n",
            "2009        3.985378             73245\n",
            "2010        3.988727             74246\n",
            "2011        3.995530             80764\n",
            "2012        4.127610            124739\n",
            "2013        4.282330            312050\n",
            "2014        4.259209            195487\n"
          ]
        }
      ]
    },
    {
      "cell_type": "code",
      "source": [
        "ratings_per_year_count.describe()"
      ],
      "metadata": {
        "id": "Bor9Yfq1S39R"
      },
      "execution_count": null,
      "outputs": []
    },
    {
      "cell_type": "markdown",
      "metadata": {
        "id": "4e0pMLF9pCP0"
      },
      "source": [
        "# Data Preprocessing"
      ]
    },
    {
      "cell_type": "code",
      "metadata": {
        "id": "fy7gDh5ypCP0"
      },
      "source": [
        "# Preprocessing. We are using reviewer Id, Movie Id, and Rates\n",
        "def read_reviews(path):\n",
        "    try:\n",
        "        df = pd.read_csv(path)\n",
        "        df = df[['reviewerID', 'asin', 'overall']]\n",
        "        return df\n",
        "    except Exception as error:\n",
        "        print(\"Cannot read file: \"+repr(error))\n",
        "    "
      ],
      "execution_count": null,
      "outputs": []
    },
    {
      "cell_type": "code",
      "metadata": {
        "id": "zEss_aKupCP1"
      },
      "source": [
        "# prepare train dataset\n",
        "#train_df = read_reviews('reviews.train.csv')\n",
        "#train_df.to_csv('reviews_train_cleaned.csv', index=False, header=False)\n",
        "#train_df.head()"
      ],
      "execution_count": null,
      "outputs": []
    },
    {
      "cell_type": "code",
      "metadata": {
        "id": "CtsQx9BvpCP1"
      },
      "source": [
        "# load train dataset\n",
        "file_path = '/content/drive/MyDrive/Colab Notebooks/reviews_train_cleaned.csv'\n",
        "reader = Reader(line_format='user item rating', sep=',')\n",
        "train_data = Dataset.load_from_file(file_path, reader=reader)"
      ],
      "execution_count": null,
      "outputs": []
    },
    {
      "cell_type": "code",
      "metadata": {
        "id": "syehh06TnQIO"
      },
      "source": [
        "# load test dataset\n",
        "file_path = '/content/drive/MyDrive/Colab Notebooks/reviews.dev.csv'\n",
        "dev_df = pd.read_csv(file_path)\n",
        "reader = Reader(line_format='user item rating', sep=',')\n",
        "devdataset_data = Dataset.load_from_df(pd.DataFrame.from_records(dev_df.values), reader=reader).build_full_trainset().build_testset()\n",
        "#test_data = Dataset.load_from_file(file_path, reader=reader).build_full_trainset().build_testset()"
      ],
      "execution_count": null,
      "outputs": []
    },
    {
      "cell_type": "code",
      "metadata": {
        "colab": {
          "base_uri": "https://localhost:8080/",
          "height": 206
        },
        "id": "Xp_H6hzed0_8",
        "outputId": "b18ac9aa-b832-440c-85ff-efe72f55d4fc"
      },
      "source": [
        "dev_df.head()"
      ],
      "execution_count": null,
      "outputs": [
        {
          "output_type": "execute_result",
          "data": {
            "text/plain": [
              "       reviewerID        asin  overall\n",
              "0  A34DNO6UAH67Z0  B000CDSS22        5\n",
              "1  A3APW42N5MRVWT  6305186774        2\n",
              "2  A20D9VGCF3P13L  B004LWZW24        5\n",
              "3   A82LIVYSX6WZ9  B00001U0DM        3\n",
              "4  A3LRKDF5WU4ZDO  B00005JOZI        3"
            ],
            "text/html": [
              "\n",
              "  <div id=\"df-bb5f187e-cc98-4bc8-8940-7dc06e65f8f5\">\n",
              "    <div class=\"colab-df-container\">\n",
              "      <div>\n",
              "<style scoped>\n",
              "    .dataframe tbody tr th:only-of-type {\n",
              "        vertical-align: middle;\n",
              "    }\n",
              "\n",
              "    .dataframe tbody tr th {\n",
              "        vertical-align: top;\n",
              "    }\n",
              "\n",
              "    .dataframe thead th {\n",
              "        text-align: right;\n",
              "    }\n",
              "</style>\n",
              "<table border=\"1\" class=\"dataframe\">\n",
              "  <thead>\n",
              "    <tr style=\"text-align: right;\">\n",
              "      <th></th>\n",
              "      <th>reviewerID</th>\n",
              "      <th>asin</th>\n",
              "      <th>overall</th>\n",
              "    </tr>\n",
              "  </thead>\n",
              "  <tbody>\n",
              "    <tr>\n",
              "      <th>0</th>\n",
              "      <td>A34DNO6UAH67Z0</td>\n",
              "      <td>B000CDSS22</td>\n",
              "      <td>5</td>\n",
              "    </tr>\n",
              "    <tr>\n",
              "      <th>1</th>\n",
              "      <td>A3APW42N5MRVWT</td>\n",
              "      <td>6305186774</td>\n",
              "      <td>2</td>\n",
              "    </tr>\n",
              "    <tr>\n",
              "      <th>2</th>\n",
              "      <td>A20D9VGCF3P13L</td>\n",
              "      <td>B004LWZW24</td>\n",
              "      <td>5</td>\n",
              "    </tr>\n",
              "    <tr>\n",
              "      <th>3</th>\n",
              "      <td>A82LIVYSX6WZ9</td>\n",
              "      <td>B00001U0DM</td>\n",
              "      <td>3</td>\n",
              "    </tr>\n",
              "    <tr>\n",
              "      <th>4</th>\n",
              "      <td>A3LRKDF5WU4ZDO</td>\n",
              "      <td>B00005JOZI</td>\n",
              "      <td>3</td>\n",
              "    </tr>\n",
              "  </tbody>\n",
              "</table>\n",
              "</div>\n",
              "      <button class=\"colab-df-convert\" onclick=\"convertToInteractive('df-bb5f187e-cc98-4bc8-8940-7dc06e65f8f5')\"\n",
              "              title=\"Convert this dataframe to an interactive table.\"\n",
              "              style=\"display:none;\">\n",
              "        \n",
              "  <svg xmlns=\"http://www.w3.org/2000/svg\" height=\"24px\"viewBox=\"0 0 24 24\"\n",
              "       width=\"24px\">\n",
              "    <path d=\"M0 0h24v24H0V0z\" fill=\"none\"/>\n",
              "    <path d=\"M18.56 5.44l.94 2.06.94-2.06 2.06-.94-2.06-.94-.94-2.06-.94 2.06-2.06.94zm-11 1L8.5 8.5l.94-2.06 2.06-.94-2.06-.94L8.5 2.5l-.94 2.06-2.06.94zm10 10l.94 2.06.94-2.06 2.06-.94-2.06-.94-.94-2.06-.94 2.06-2.06.94z\"/><path d=\"M17.41 7.96l-1.37-1.37c-.4-.4-.92-.59-1.43-.59-.52 0-1.04.2-1.43.59L10.3 9.45l-7.72 7.72c-.78.78-.78 2.05 0 2.83L4 21.41c.39.39.9.59 1.41.59.51 0 1.02-.2 1.41-.59l7.78-7.78 2.81-2.81c.8-.78.8-2.07 0-2.86zM5.41 20L4 18.59l7.72-7.72 1.47 1.35L5.41 20z\"/>\n",
              "  </svg>\n",
              "      </button>\n",
              "      \n",
              "  <style>\n",
              "    .colab-df-container {\n",
              "      display:flex;\n",
              "      flex-wrap:wrap;\n",
              "      gap: 12px;\n",
              "    }\n",
              "\n",
              "    .colab-df-convert {\n",
              "      background-color: #E8F0FE;\n",
              "      border: none;\n",
              "      border-radius: 50%;\n",
              "      cursor: pointer;\n",
              "      display: none;\n",
              "      fill: #1967D2;\n",
              "      height: 32px;\n",
              "      padding: 0 0 0 0;\n",
              "      width: 32px;\n",
              "    }\n",
              "\n",
              "    .colab-df-convert:hover {\n",
              "      background-color: #E2EBFA;\n",
              "      box-shadow: 0px 1px 2px rgba(60, 64, 67, 0.3), 0px 1px 3px 1px rgba(60, 64, 67, 0.15);\n",
              "      fill: #174EA6;\n",
              "    }\n",
              "\n",
              "    [theme=dark] .colab-df-convert {\n",
              "      background-color: #3B4455;\n",
              "      fill: #D2E3FC;\n",
              "    }\n",
              "\n",
              "    [theme=dark] .colab-df-convert:hover {\n",
              "      background-color: #434B5C;\n",
              "      box-shadow: 0px 1px 3px 1px rgba(0, 0, 0, 0.15);\n",
              "      filter: drop-shadow(0px 1px 2px rgba(0, 0, 0, 0.3));\n",
              "      fill: #FFFFFF;\n",
              "    }\n",
              "  </style>\n",
              "\n",
              "      <script>\n",
              "        const buttonEl =\n",
              "          document.querySelector('#df-bb5f187e-cc98-4bc8-8940-7dc06e65f8f5 button.colab-df-convert');\n",
              "        buttonEl.style.display =\n",
              "          google.colab.kernel.accessAllowed ? 'block' : 'none';\n",
              "\n",
              "        async function convertToInteractive(key) {\n",
              "          const element = document.querySelector('#df-bb5f187e-cc98-4bc8-8940-7dc06e65f8f5');\n",
              "          const dataTable =\n",
              "            await google.colab.kernel.invokeFunction('convertToInteractive',\n",
              "                                                     [key], {});\n",
              "          if (!dataTable) return;\n",
              "\n",
              "          const docLinkHtml = 'Like what you see? Visit the ' +\n",
              "            '<a target=\"_blank\" href=https://colab.research.google.com/notebooks/data_table.ipynb>data table notebook</a>'\n",
              "            + ' to learn more about interactive tables.';\n",
              "          element.innerHTML = '';\n",
              "          dataTable['output_type'] = 'display_data';\n",
              "          await google.colab.output.renderOutput(dataTable, element);\n",
              "          const docLink = document.createElement('div');\n",
              "          docLink.innerHTML = docLinkHtml;\n",
              "          element.appendChild(docLink);\n",
              "        }\n",
              "      </script>\n",
              "    </div>\n",
              "  </div>\n",
              "  "
            ]
          },
          "metadata": {},
          "execution_count": 11
        }
      ]
    },
    {
      "cell_type": "code",
      "source": [
        "dev_df.describe()"
      ],
      "metadata": {
        "colab": {
          "base_uri": "https://localhost:8080/",
          "height": 300
        },
        "id": "5LiBVQqJY2n5",
        "outputId": "b55a82ed-4fc5-4ed7-f2e5-c24855130d0f"
      },
      "execution_count": null,
      "outputs": [
        {
          "output_type": "execute_result",
          "data": {
            "text/plain": [
              "             overall\n",
              "count  169753.000000\n",
              "mean        4.110932\n",
              "std         1.198308\n",
              "min         1.000000\n",
              "25%         4.000000\n",
              "50%         5.000000\n",
              "75%         5.000000\n",
              "max         5.000000"
            ],
            "text/html": [
              "\n",
              "  <div id=\"df-ac69f5b9-a486-4bcd-8a41-9ed68fb5867e\">\n",
              "    <div class=\"colab-df-container\">\n",
              "      <div>\n",
              "<style scoped>\n",
              "    .dataframe tbody tr th:only-of-type {\n",
              "        vertical-align: middle;\n",
              "    }\n",
              "\n",
              "    .dataframe tbody tr th {\n",
              "        vertical-align: top;\n",
              "    }\n",
              "\n",
              "    .dataframe thead th {\n",
              "        text-align: right;\n",
              "    }\n",
              "</style>\n",
              "<table border=\"1\" class=\"dataframe\">\n",
              "  <thead>\n",
              "    <tr style=\"text-align: right;\">\n",
              "      <th></th>\n",
              "      <th>overall</th>\n",
              "    </tr>\n",
              "  </thead>\n",
              "  <tbody>\n",
              "    <tr>\n",
              "      <th>count</th>\n",
              "      <td>169753.000000</td>\n",
              "    </tr>\n",
              "    <tr>\n",
              "      <th>mean</th>\n",
              "      <td>4.110932</td>\n",
              "    </tr>\n",
              "    <tr>\n",
              "      <th>std</th>\n",
              "      <td>1.198308</td>\n",
              "    </tr>\n",
              "    <tr>\n",
              "      <th>min</th>\n",
              "      <td>1.000000</td>\n",
              "    </tr>\n",
              "    <tr>\n",
              "      <th>25%</th>\n",
              "      <td>4.000000</td>\n",
              "    </tr>\n",
              "    <tr>\n",
              "      <th>50%</th>\n",
              "      <td>5.000000</td>\n",
              "    </tr>\n",
              "    <tr>\n",
              "      <th>75%</th>\n",
              "      <td>5.000000</td>\n",
              "    </tr>\n",
              "    <tr>\n",
              "      <th>max</th>\n",
              "      <td>5.000000</td>\n",
              "    </tr>\n",
              "  </tbody>\n",
              "</table>\n",
              "</div>\n",
              "      <button class=\"colab-df-convert\" onclick=\"convertToInteractive('df-ac69f5b9-a486-4bcd-8a41-9ed68fb5867e')\"\n",
              "              title=\"Convert this dataframe to an interactive table.\"\n",
              "              style=\"display:none;\">\n",
              "        \n",
              "  <svg xmlns=\"http://www.w3.org/2000/svg\" height=\"24px\"viewBox=\"0 0 24 24\"\n",
              "       width=\"24px\">\n",
              "    <path d=\"M0 0h24v24H0V0z\" fill=\"none\"/>\n",
              "    <path d=\"M18.56 5.44l.94 2.06.94-2.06 2.06-.94-2.06-.94-.94-2.06-.94 2.06-2.06.94zm-11 1L8.5 8.5l.94-2.06 2.06-.94-2.06-.94L8.5 2.5l-.94 2.06-2.06.94zm10 10l.94 2.06.94-2.06 2.06-.94-2.06-.94-.94-2.06-.94 2.06-2.06.94z\"/><path d=\"M17.41 7.96l-1.37-1.37c-.4-.4-.92-.59-1.43-.59-.52 0-1.04.2-1.43.59L10.3 9.45l-7.72 7.72c-.78.78-.78 2.05 0 2.83L4 21.41c.39.39.9.59 1.41.59.51 0 1.02-.2 1.41-.59l7.78-7.78 2.81-2.81c.8-.78.8-2.07 0-2.86zM5.41 20L4 18.59l7.72-7.72 1.47 1.35L5.41 20z\"/>\n",
              "  </svg>\n",
              "      </button>\n",
              "      \n",
              "  <style>\n",
              "    .colab-df-container {\n",
              "      display:flex;\n",
              "      flex-wrap:wrap;\n",
              "      gap: 12px;\n",
              "    }\n",
              "\n",
              "    .colab-df-convert {\n",
              "      background-color: #E8F0FE;\n",
              "      border: none;\n",
              "      border-radius: 50%;\n",
              "      cursor: pointer;\n",
              "      display: none;\n",
              "      fill: #1967D2;\n",
              "      height: 32px;\n",
              "      padding: 0 0 0 0;\n",
              "      width: 32px;\n",
              "    }\n",
              "\n",
              "    .colab-df-convert:hover {\n",
              "      background-color: #E2EBFA;\n",
              "      box-shadow: 0px 1px 2px rgba(60, 64, 67, 0.3), 0px 1px 3px 1px rgba(60, 64, 67, 0.15);\n",
              "      fill: #174EA6;\n",
              "    }\n",
              "\n",
              "    [theme=dark] .colab-df-convert {\n",
              "      background-color: #3B4455;\n",
              "      fill: #D2E3FC;\n",
              "    }\n",
              "\n",
              "    [theme=dark] .colab-df-convert:hover {\n",
              "      background-color: #434B5C;\n",
              "      box-shadow: 0px 1px 3px 1px rgba(0, 0, 0, 0.15);\n",
              "      filter: drop-shadow(0px 1px 2px rgba(0, 0, 0, 0.3));\n",
              "      fill: #FFFFFF;\n",
              "    }\n",
              "  </style>\n",
              "\n",
              "      <script>\n",
              "        const buttonEl =\n",
              "          document.querySelector('#df-ac69f5b9-a486-4bcd-8a41-9ed68fb5867e button.colab-df-convert');\n",
              "        buttonEl.style.display =\n",
              "          google.colab.kernel.accessAllowed ? 'block' : 'none';\n",
              "\n",
              "        async function convertToInteractive(key) {\n",
              "          const element = document.querySelector('#df-ac69f5b9-a486-4bcd-8a41-9ed68fb5867e');\n",
              "          const dataTable =\n",
              "            await google.colab.kernel.invokeFunction('convertToInteractive',\n",
              "                                                     [key], {});\n",
              "          if (!dataTable) return;\n",
              "\n",
              "          const docLinkHtml = 'Like what you see? Visit the ' +\n",
              "            '<a target=\"_blank\" href=https://colab.research.google.com/notebooks/data_table.ipynb>data table notebook</a>'\n",
              "            + ' to learn more about interactive tables.';\n",
              "          element.innerHTML = '';\n",
              "          dataTable['output_type'] = 'display_data';\n",
              "          await google.colab.output.renderOutput(dataTable, element);\n",
              "          const docLink = document.createElement('div');\n",
              "          docLink.innerHTML = docLinkHtml;\n",
              "          element.appendChild(docLink);\n",
              "        }\n",
              "      </script>\n",
              "    </div>\n",
              "  </div>\n",
              "  "
            ]
          },
          "metadata": {},
          "execution_count": 12
        }
      ]
    },
    {
      "cell_type": "code",
      "source": [
        "train_df.head()\n"
      ],
      "metadata": {
        "colab": {
          "base_uri": "https://localhost:8080/",
          "height": 320
        },
        "id": "UoyZb7KoYD8K",
        "outputId": "e7ecb758-28e3-46d6-8767-e3af0de05c53"
      },
      "execution_count": null,
      "outputs": [
        {
          "output_type": "execute_result",
          "data": {
            "text/plain": [
              "   Unnamed: 0        asin   helpful  overall  \\\n",
              "0           0  B0090SI56Y    [0, 0]        4   \n",
              "1           1  B00005JL99    [3, 6]        5   \n",
              "2           2  B00109KN0M  [27, 28]        5   \n",
              "3           3  B00005JMPT    [3, 4]        5   \n",
              "4           4  B00005AAA9    [0, 0]        4   \n",
              "\n",
              "                                          reviewText   reviewTime  \\\n",
              "0  The movie was entertaining and falls in line w...  12 22, 2013   \n",
              "1  One thing to be said about Japanese horror/ext...  11 19, 2003   \n",
              "2  Michelle Pfeiffer gives a brilliant performanc...  02 13, 2008   \n",
              "3  I wanted to see &quot;The Missing&quot; when i...  06 18, 2004   \n",
              "4  I think &#34;Miss Congeniality&#34; is a light...  10 22, 2013   \n",
              "\n",
              "       reviewerID     reviewerName  \\\n",
              "0   AMFIPCYDYWGVT           AMRDxn   \n",
              "1  A3G602Z4DWDZKS     Matthew King   \n",
              "2  A33BOYMVG3U58Y        TV Critic   \n",
              "3   ANEDXRFDZDL18     Serene Night   \n",
              "4  A1VN7IS16PY024  Amazon Customer   \n",
              "\n",
              "                                           summary  unixReviewTime  \n",
              "0                                     Entertaining      1387670400  \n",
              "1  Absolutely stunning! A battle not to be missed!      1069200000  \n",
              "2                         Michelle Pfeiffer shines      1202860800  \n",
              "3                              Hard Gritty Western      1087516800  \n",
              "4                       Very entertaining but.....      1382400000  "
            ],
            "text/html": [
              "\n",
              "  <div id=\"df-d3811a18-1279-4dbe-a4e9-9b116399b6ae\">\n",
              "    <div class=\"colab-df-container\">\n",
              "      <div>\n",
              "<style scoped>\n",
              "    .dataframe tbody tr th:only-of-type {\n",
              "        vertical-align: middle;\n",
              "    }\n",
              "\n",
              "    .dataframe tbody tr th {\n",
              "        vertical-align: top;\n",
              "    }\n",
              "\n",
              "    .dataframe thead th {\n",
              "        text-align: right;\n",
              "    }\n",
              "</style>\n",
              "<table border=\"1\" class=\"dataframe\">\n",
              "  <thead>\n",
              "    <tr style=\"text-align: right;\">\n",
              "      <th></th>\n",
              "      <th>Unnamed: 0</th>\n",
              "      <th>asin</th>\n",
              "      <th>helpful</th>\n",
              "      <th>overall</th>\n",
              "      <th>reviewText</th>\n",
              "      <th>reviewTime</th>\n",
              "      <th>reviewerID</th>\n",
              "      <th>reviewerName</th>\n",
              "      <th>summary</th>\n",
              "      <th>unixReviewTime</th>\n",
              "    </tr>\n",
              "  </thead>\n",
              "  <tbody>\n",
              "    <tr>\n",
              "      <th>0</th>\n",
              "      <td>0</td>\n",
              "      <td>B0090SI56Y</td>\n",
              "      <td>[0, 0]</td>\n",
              "      <td>4</td>\n",
              "      <td>The movie was entertaining and falls in line w...</td>\n",
              "      <td>12 22, 2013</td>\n",
              "      <td>AMFIPCYDYWGVT</td>\n",
              "      <td>AMRDxn</td>\n",
              "      <td>Entertaining</td>\n",
              "      <td>1387670400</td>\n",
              "    </tr>\n",
              "    <tr>\n",
              "      <th>1</th>\n",
              "      <td>1</td>\n",
              "      <td>B00005JL99</td>\n",
              "      <td>[3, 6]</td>\n",
              "      <td>5</td>\n",
              "      <td>One thing to be said about Japanese horror/ext...</td>\n",
              "      <td>11 19, 2003</td>\n",
              "      <td>A3G602Z4DWDZKS</td>\n",
              "      <td>Matthew King</td>\n",
              "      <td>Absolutely stunning! A battle not to be missed!</td>\n",
              "      <td>1069200000</td>\n",
              "    </tr>\n",
              "    <tr>\n",
              "      <th>2</th>\n",
              "      <td>2</td>\n",
              "      <td>B00109KN0M</td>\n",
              "      <td>[27, 28]</td>\n",
              "      <td>5</td>\n",
              "      <td>Michelle Pfeiffer gives a brilliant performanc...</td>\n",
              "      <td>02 13, 2008</td>\n",
              "      <td>A33BOYMVG3U58Y</td>\n",
              "      <td>TV Critic</td>\n",
              "      <td>Michelle Pfeiffer shines</td>\n",
              "      <td>1202860800</td>\n",
              "    </tr>\n",
              "    <tr>\n",
              "      <th>3</th>\n",
              "      <td>3</td>\n",
              "      <td>B00005JMPT</td>\n",
              "      <td>[3, 4]</td>\n",
              "      <td>5</td>\n",
              "      <td>I wanted to see &amp;quot;The Missing&amp;quot; when i...</td>\n",
              "      <td>06 18, 2004</td>\n",
              "      <td>ANEDXRFDZDL18</td>\n",
              "      <td>Serene Night</td>\n",
              "      <td>Hard Gritty Western</td>\n",
              "      <td>1087516800</td>\n",
              "    </tr>\n",
              "    <tr>\n",
              "      <th>4</th>\n",
              "      <td>4</td>\n",
              "      <td>B00005AAA9</td>\n",
              "      <td>[0, 0]</td>\n",
              "      <td>4</td>\n",
              "      <td>I think &amp;#34;Miss Congeniality&amp;#34; is a light...</td>\n",
              "      <td>10 22, 2013</td>\n",
              "      <td>A1VN7IS16PY024</td>\n",
              "      <td>Amazon Customer</td>\n",
              "      <td>Very entertaining but.....</td>\n",
              "      <td>1382400000</td>\n",
              "    </tr>\n",
              "  </tbody>\n",
              "</table>\n",
              "</div>\n",
              "      <button class=\"colab-df-convert\" onclick=\"convertToInteractive('df-d3811a18-1279-4dbe-a4e9-9b116399b6ae')\"\n",
              "              title=\"Convert this dataframe to an interactive table.\"\n",
              "              style=\"display:none;\">\n",
              "        \n",
              "  <svg xmlns=\"http://www.w3.org/2000/svg\" height=\"24px\"viewBox=\"0 0 24 24\"\n",
              "       width=\"24px\">\n",
              "    <path d=\"M0 0h24v24H0V0z\" fill=\"none\"/>\n",
              "    <path d=\"M18.56 5.44l.94 2.06.94-2.06 2.06-.94-2.06-.94-.94-2.06-.94 2.06-2.06.94zm-11 1L8.5 8.5l.94-2.06 2.06-.94-2.06-.94L8.5 2.5l-.94 2.06-2.06.94zm10 10l.94 2.06.94-2.06 2.06-.94-2.06-.94-.94-2.06-.94 2.06-2.06.94z\"/><path d=\"M17.41 7.96l-1.37-1.37c-.4-.4-.92-.59-1.43-.59-.52 0-1.04.2-1.43.59L10.3 9.45l-7.72 7.72c-.78.78-.78 2.05 0 2.83L4 21.41c.39.39.9.59 1.41.59.51 0 1.02-.2 1.41-.59l7.78-7.78 2.81-2.81c.8-.78.8-2.07 0-2.86zM5.41 20L4 18.59l7.72-7.72 1.47 1.35L5.41 20z\"/>\n",
              "  </svg>\n",
              "      </button>\n",
              "      \n",
              "  <style>\n",
              "    .colab-df-container {\n",
              "      display:flex;\n",
              "      flex-wrap:wrap;\n",
              "      gap: 12px;\n",
              "    }\n",
              "\n",
              "    .colab-df-convert {\n",
              "      background-color: #E8F0FE;\n",
              "      border: none;\n",
              "      border-radius: 50%;\n",
              "      cursor: pointer;\n",
              "      display: none;\n",
              "      fill: #1967D2;\n",
              "      height: 32px;\n",
              "      padding: 0 0 0 0;\n",
              "      width: 32px;\n",
              "    }\n",
              "\n",
              "    .colab-df-convert:hover {\n",
              "      background-color: #E2EBFA;\n",
              "      box-shadow: 0px 1px 2px rgba(60, 64, 67, 0.3), 0px 1px 3px 1px rgba(60, 64, 67, 0.15);\n",
              "      fill: #174EA6;\n",
              "    }\n",
              "\n",
              "    [theme=dark] .colab-df-convert {\n",
              "      background-color: #3B4455;\n",
              "      fill: #D2E3FC;\n",
              "    }\n",
              "\n",
              "    [theme=dark] .colab-df-convert:hover {\n",
              "      background-color: #434B5C;\n",
              "      box-shadow: 0px 1px 3px 1px rgba(0, 0, 0, 0.15);\n",
              "      filter: drop-shadow(0px 1px 2px rgba(0, 0, 0, 0.3));\n",
              "      fill: #FFFFFF;\n",
              "    }\n",
              "  </style>\n",
              "\n",
              "      <script>\n",
              "        const buttonEl =\n",
              "          document.querySelector('#df-d3811a18-1279-4dbe-a4e9-9b116399b6ae button.colab-df-convert');\n",
              "        buttonEl.style.display =\n",
              "          google.colab.kernel.accessAllowed ? 'block' : 'none';\n",
              "\n",
              "        async function convertToInteractive(key) {\n",
              "          const element = document.querySelector('#df-d3811a18-1279-4dbe-a4e9-9b116399b6ae');\n",
              "          const dataTable =\n",
              "            await google.colab.kernel.invokeFunction('convertToInteractive',\n",
              "                                                     [key], {});\n",
              "          if (!dataTable) return;\n",
              "\n",
              "          const docLinkHtml = 'Like what you see? Visit the ' +\n",
              "            '<a target=\"_blank\" href=https://colab.research.google.com/notebooks/data_table.ipynb>data table notebook</a>'\n",
              "            + ' to learn more about interactive tables.';\n",
              "          element.innerHTML = '';\n",
              "          dataTable['output_type'] = 'display_data';\n",
              "          await google.colab.output.renderOutput(dataTable, element);\n",
              "          const docLink = document.createElement('div');\n",
              "          docLink.innerHTML = docLinkHtml;\n",
              "          element.appendChild(docLink);\n",
              "        }\n",
              "      </script>\n",
              "    </div>\n",
              "  </div>\n",
              "  "
            ]
          },
          "metadata": {},
          "execution_count": 13
        }
      ]
    },
    {
      "cell_type": "code",
      "source": [
        "# reviewerId existing in dev but not in train -> coldstart problem\n",
        "#dev_df['reviewerID'].isin(train_df['reviewerID']).value_counts()\n",
        "dev_df.loc[~dev_df['reviewerID'].isin(train_df['reviewerID'])]"
      ],
      "metadata": {
        "colab": {
          "base_uri": "https://localhost:8080/",
          "height": 896
        },
        "id": "G3OwXyKuXDJA",
        "outputId": "6cd77283-4830-424e-bc8c-05b31e35c483"
      },
      "execution_count": null,
      "outputs": [
        {
          "output_type": "execute_result",
          "data": {
            "text/plain": [
              "            reviewerID        asin  overall\n",
              "1273    A1D3L5ICB2KE0F  B0000C89IU        5\n",
              "1542     AJSM8QWA4B8IP  B009LDD54K        5\n",
              "4568    A3G6PW095IFNN5  0784011176        5\n",
              "18804   A2VGI69KIN0AAH  B0013GS3WW        4\n",
              "23685   A3UV0B32X7H4GC  0792833171        5\n",
              "46348   A3E9C95QHGYKWH  630573240X        5\n",
              "46456   A2VGI69KIN0AAH  0792842081        4\n",
              "59372    AZTYHKV3MI0YL  0790734850        4\n",
              "65472   A2VGI69KIN0AAH  B005LAIHUO        4\n",
              "67223    AJSM8QWA4B8IP  630248443X        4\n",
              "68658   A150UCGE9QID39  0792162617        5\n",
              "73764   A150UCGE9QID39  B001UREJXQ        5\n",
              "82037   A1D3L5ICB2KE0F  B006W9KNXC        5\n",
              "89579   A150UCGE9QID39  B001U2QEP2        5\n",
              "89631    AJSM8QWA4B8IP  0790747219        5\n",
              "113284   AZTYHKV3MI0YL  0790743132        5\n",
              "115975  A3G6PW095IFNN5  B00005JCKU        4\n",
              "132046   AJSM8QWA4B8IP  B002GSXKPQ        5\n",
              "138476   AJSM8QWA4B8IP  B00004Z4WR        4\n",
              "139124  A150UCGE9QID39  6302492009        5\n",
              "141294  A2VGI69KIN0AAH  B005LAIH2C        4\n",
              "142251  A3UV0B32X7H4GC  0783242379        5\n",
              "142887  A3E9C95QHGYKWH  0767805712        5\n",
              "146209  A1D3L5ICB2KE0F  B000RIWAVC        3\n",
              "147498   AZTYHKV3MI0YL  630305725X        4\n",
              "155186  A3E9C95QHGYKWH  0788832182        5\n",
              "157951  A1D3L5ICB2KE0F  B00342ANSA        3"
            ],
            "text/html": [
              "\n",
              "  <div id=\"df-65b3731b-fae4-4936-bdb7-e6e8450ff123\">\n",
              "    <div class=\"colab-df-container\">\n",
              "      <div>\n",
              "<style scoped>\n",
              "    .dataframe tbody tr th:only-of-type {\n",
              "        vertical-align: middle;\n",
              "    }\n",
              "\n",
              "    .dataframe tbody tr th {\n",
              "        vertical-align: top;\n",
              "    }\n",
              "\n",
              "    .dataframe thead th {\n",
              "        text-align: right;\n",
              "    }\n",
              "</style>\n",
              "<table border=\"1\" class=\"dataframe\">\n",
              "  <thead>\n",
              "    <tr style=\"text-align: right;\">\n",
              "      <th></th>\n",
              "      <th>reviewerID</th>\n",
              "      <th>asin</th>\n",
              "      <th>overall</th>\n",
              "    </tr>\n",
              "  </thead>\n",
              "  <tbody>\n",
              "    <tr>\n",
              "      <th>1273</th>\n",
              "      <td>A1D3L5ICB2KE0F</td>\n",
              "      <td>B0000C89IU</td>\n",
              "      <td>5</td>\n",
              "    </tr>\n",
              "    <tr>\n",
              "      <th>1542</th>\n",
              "      <td>AJSM8QWA4B8IP</td>\n",
              "      <td>B009LDD54K</td>\n",
              "      <td>5</td>\n",
              "    </tr>\n",
              "    <tr>\n",
              "      <th>4568</th>\n",
              "      <td>A3G6PW095IFNN5</td>\n",
              "      <td>0784011176</td>\n",
              "      <td>5</td>\n",
              "    </tr>\n",
              "    <tr>\n",
              "      <th>18804</th>\n",
              "      <td>A2VGI69KIN0AAH</td>\n",
              "      <td>B0013GS3WW</td>\n",
              "      <td>4</td>\n",
              "    </tr>\n",
              "    <tr>\n",
              "      <th>23685</th>\n",
              "      <td>A3UV0B32X7H4GC</td>\n",
              "      <td>0792833171</td>\n",
              "      <td>5</td>\n",
              "    </tr>\n",
              "    <tr>\n",
              "      <th>46348</th>\n",
              "      <td>A3E9C95QHGYKWH</td>\n",
              "      <td>630573240X</td>\n",
              "      <td>5</td>\n",
              "    </tr>\n",
              "    <tr>\n",
              "      <th>46456</th>\n",
              "      <td>A2VGI69KIN0AAH</td>\n",
              "      <td>0792842081</td>\n",
              "      <td>4</td>\n",
              "    </tr>\n",
              "    <tr>\n",
              "      <th>59372</th>\n",
              "      <td>AZTYHKV3MI0YL</td>\n",
              "      <td>0790734850</td>\n",
              "      <td>4</td>\n",
              "    </tr>\n",
              "    <tr>\n",
              "      <th>65472</th>\n",
              "      <td>A2VGI69KIN0AAH</td>\n",
              "      <td>B005LAIHUO</td>\n",
              "      <td>4</td>\n",
              "    </tr>\n",
              "    <tr>\n",
              "      <th>67223</th>\n",
              "      <td>AJSM8QWA4B8IP</td>\n",
              "      <td>630248443X</td>\n",
              "      <td>4</td>\n",
              "    </tr>\n",
              "    <tr>\n",
              "      <th>68658</th>\n",
              "      <td>A150UCGE9QID39</td>\n",
              "      <td>0792162617</td>\n",
              "      <td>5</td>\n",
              "    </tr>\n",
              "    <tr>\n",
              "      <th>73764</th>\n",
              "      <td>A150UCGE9QID39</td>\n",
              "      <td>B001UREJXQ</td>\n",
              "      <td>5</td>\n",
              "    </tr>\n",
              "    <tr>\n",
              "      <th>82037</th>\n",
              "      <td>A1D3L5ICB2KE0F</td>\n",
              "      <td>B006W9KNXC</td>\n",
              "      <td>5</td>\n",
              "    </tr>\n",
              "    <tr>\n",
              "      <th>89579</th>\n",
              "      <td>A150UCGE9QID39</td>\n",
              "      <td>B001U2QEP2</td>\n",
              "      <td>5</td>\n",
              "    </tr>\n",
              "    <tr>\n",
              "      <th>89631</th>\n",
              "      <td>AJSM8QWA4B8IP</td>\n",
              "      <td>0790747219</td>\n",
              "      <td>5</td>\n",
              "    </tr>\n",
              "    <tr>\n",
              "      <th>113284</th>\n",
              "      <td>AZTYHKV3MI0YL</td>\n",
              "      <td>0790743132</td>\n",
              "      <td>5</td>\n",
              "    </tr>\n",
              "    <tr>\n",
              "      <th>115975</th>\n",
              "      <td>A3G6PW095IFNN5</td>\n",
              "      <td>B00005JCKU</td>\n",
              "      <td>4</td>\n",
              "    </tr>\n",
              "    <tr>\n",
              "      <th>132046</th>\n",
              "      <td>AJSM8QWA4B8IP</td>\n",
              "      <td>B002GSXKPQ</td>\n",
              "      <td>5</td>\n",
              "    </tr>\n",
              "    <tr>\n",
              "      <th>138476</th>\n",
              "      <td>AJSM8QWA4B8IP</td>\n",
              "      <td>B00004Z4WR</td>\n",
              "      <td>4</td>\n",
              "    </tr>\n",
              "    <tr>\n",
              "      <th>139124</th>\n",
              "      <td>A150UCGE9QID39</td>\n",
              "      <td>6302492009</td>\n",
              "      <td>5</td>\n",
              "    </tr>\n",
              "    <tr>\n",
              "      <th>141294</th>\n",
              "      <td>A2VGI69KIN0AAH</td>\n",
              "      <td>B005LAIH2C</td>\n",
              "      <td>4</td>\n",
              "    </tr>\n",
              "    <tr>\n",
              "      <th>142251</th>\n",
              "      <td>A3UV0B32X7H4GC</td>\n",
              "      <td>0783242379</td>\n",
              "      <td>5</td>\n",
              "    </tr>\n",
              "    <tr>\n",
              "      <th>142887</th>\n",
              "      <td>A3E9C95QHGYKWH</td>\n",
              "      <td>0767805712</td>\n",
              "      <td>5</td>\n",
              "    </tr>\n",
              "    <tr>\n",
              "      <th>146209</th>\n",
              "      <td>A1D3L5ICB2KE0F</td>\n",
              "      <td>B000RIWAVC</td>\n",
              "      <td>3</td>\n",
              "    </tr>\n",
              "    <tr>\n",
              "      <th>147498</th>\n",
              "      <td>AZTYHKV3MI0YL</td>\n",
              "      <td>630305725X</td>\n",
              "      <td>4</td>\n",
              "    </tr>\n",
              "    <tr>\n",
              "      <th>155186</th>\n",
              "      <td>A3E9C95QHGYKWH</td>\n",
              "      <td>0788832182</td>\n",
              "      <td>5</td>\n",
              "    </tr>\n",
              "    <tr>\n",
              "      <th>157951</th>\n",
              "      <td>A1D3L5ICB2KE0F</td>\n",
              "      <td>B00342ANSA</td>\n",
              "      <td>3</td>\n",
              "    </tr>\n",
              "  </tbody>\n",
              "</table>\n",
              "</div>\n",
              "      <button class=\"colab-df-convert\" onclick=\"convertToInteractive('df-65b3731b-fae4-4936-bdb7-e6e8450ff123')\"\n",
              "              title=\"Convert this dataframe to an interactive table.\"\n",
              "              style=\"display:none;\">\n",
              "        \n",
              "  <svg xmlns=\"http://www.w3.org/2000/svg\" height=\"24px\"viewBox=\"0 0 24 24\"\n",
              "       width=\"24px\">\n",
              "    <path d=\"M0 0h24v24H0V0z\" fill=\"none\"/>\n",
              "    <path d=\"M18.56 5.44l.94 2.06.94-2.06 2.06-.94-2.06-.94-.94-2.06-.94 2.06-2.06.94zm-11 1L8.5 8.5l.94-2.06 2.06-.94-2.06-.94L8.5 2.5l-.94 2.06-2.06.94zm10 10l.94 2.06.94-2.06 2.06-.94-2.06-.94-.94-2.06-.94 2.06-2.06.94z\"/><path d=\"M17.41 7.96l-1.37-1.37c-.4-.4-.92-.59-1.43-.59-.52 0-1.04.2-1.43.59L10.3 9.45l-7.72 7.72c-.78.78-.78 2.05 0 2.83L4 21.41c.39.39.9.59 1.41.59.51 0 1.02-.2 1.41-.59l7.78-7.78 2.81-2.81c.8-.78.8-2.07 0-2.86zM5.41 20L4 18.59l7.72-7.72 1.47 1.35L5.41 20z\"/>\n",
              "  </svg>\n",
              "      </button>\n",
              "      \n",
              "  <style>\n",
              "    .colab-df-container {\n",
              "      display:flex;\n",
              "      flex-wrap:wrap;\n",
              "      gap: 12px;\n",
              "    }\n",
              "\n",
              "    .colab-df-convert {\n",
              "      background-color: #E8F0FE;\n",
              "      border: none;\n",
              "      border-radius: 50%;\n",
              "      cursor: pointer;\n",
              "      display: none;\n",
              "      fill: #1967D2;\n",
              "      height: 32px;\n",
              "      padding: 0 0 0 0;\n",
              "      width: 32px;\n",
              "    }\n",
              "\n",
              "    .colab-df-convert:hover {\n",
              "      background-color: #E2EBFA;\n",
              "      box-shadow: 0px 1px 2px rgba(60, 64, 67, 0.3), 0px 1px 3px 1px rgba(60, 64, 67, 0.15);\n",
              "      fill: #174EA6;\n",
              "    }\n",
              "\n",
              "    [theme=dark] .colab-df-convert {\n",
              "      background-color: #3B4455;\n",
              "      fill: #D2E3FC;\n",
              "    }\n",
              "\n",
              "    [theme=dark] .colab-df-convert:hover {\n",
              "      background-color: #434B5C;\n",
              "      box-shadow: 0px 1px 3px 1px rgba(0, 0, 0, 0.15);\n",
              "      filter: drop-shadow(0px 1px 2px rgba(0, 0, 0, 0.3));\n",
              "      fill: #FFFFFF;\n",
              "    }\n",
              "  </style>\n",
              "\n",
              "      <script>\n",
              "        const buttonEl =\n",
              "          document.querySelector('#df-65b3731b-fae4-4936-bdb7-e6e8450ff123 button.colab-df-convert');\n",
              "        buttonEl.style.display =\n",
              "          google.colab.kernel.accessAllowed ? 'block' : 'none';\n",
              "\n",
              "        async function convertToInteractive(key) {\n",
              "          const element = document.querySelector('#df-65b3731b-fae4-4936-bdb7-e6e8450ff123');\n",
              "          const dataTable =\n",
              "            await google.colab.kernel.invokeFunction('convertToInteractive',\n",
              "                                                     [key], {});\n",
              "          if (!dataTable) return;\n",
              "\n",
              "          const docLinkHtml = 'Like what you see? Visit the ' +\n",
              "            '<a target=\"_blank\" href=https://colab.research.google.com/notebooks/data_table.ipynb>data table notebook</a>'\n",
              "            + ' to learn more about interactive tables.';\n",
              "          element.innerHTML = '';\n",
              "          dataTable['output_type'] = 'display_data';\n",
              "          await google.colab.output.renderOutput(dataTable, element);\n",
              "          const docLink = document.createElement('div');\n",
              "          docLink.innerHTML = docLinkHtml;\n",
              "          element.appendChild(docLink);\n",
              "        }\n",
              "      </script>\n",
              "    </div>\n",
              "  </div>\n",
              "  "
            ]
          },
          "metadata": {},
          "execution_count": 14
        }
      ]
    },
    {
      "cell_type": "code",
      "source": [
        "# movie item existing in dev but not in train -> coldstart problem\n",
        "dev_df.loc[~dev_df['asin'].isin(train_df['asin'])]"
      ],
      "metadata": {
        "colab": {
          "base_uri": "https://localhost:8080/",
          "height": 112
        },
        "id": "32Xm-nAtaPuz",
        "outputId": "be214d4b-aa00-456c-e017-97c40588a46b"
      },
      "execution_count": null,
      "outputs": [
        {
          "output_type": "execute_result",
          "data": {
            "text/plain": [
              "           reviewerID        asin  overall\n",
              "21097  A2983OP6MDZ1M1  B004A30AW6        5\n",
              "74445  A3EXHZD6MXE9L6  B004A30AW6        4"
            ],
            "text/html": [
              "\n",
              "  <div id=\"df-531f03ba-405b-4e7e-8793-4765476745bf\">\n",
              "    <div class=\"colab-df-container\">\n",
              "      <div>\n",
              "<style scoped>\n",
              "    .dataframe tbody tr th:only-of-type {\n",
              "        vertical-align: middle;\n",
              "    }\n",
              "\n",
              "    .dataframe tbody tr th {\n",
              "        vertical-align: top;\n",
              "    }\n",
              "\n",
              "    .dataframe thead th {\n",
              "        text-align: right;\n",
              "    }\n",
              "</style>\n",
              "<table border=\"1\" class=\"dataframe\">\n",
              "  <thead>\n",
              "    <tr style=\"text-align: right;\">\n",
              "      <th></th>\n",
              "      <th>reviewerID</th>\n",
              "      <th>asin</th>\n",
              "      <th>overall</th>\n",
              "    </tr>\n",
              "  </thead>\n",
              "  <tbody>\n",
              "    <tr>\n",
              "      <th>21097</th>\n",
              "      <td>A2983OP6MDZ1M1</td>\n",
              "      <td>B004A30AW6</td>\n",
              "      <td>5</td>\n",
              "    </tr>\n",
              "    <tr>\n",
              "      <th>74445</th>\n",
              "      <td>A3EXHZD6MXE9L6</td>\n",
              "      <td>B004A30AW6</td>\n",
              "      <td>4</td>\n",
              "    </tr>\n",
              "  </tbody>\n",
              "</table>\n",
              "</div>\n",
              "      <button class=\"colab-df-convert\" onclick=\"convertToInteractive('df-531f03ba-405b-4e7e-8793-4765476745bf')\"\n",
              "              title=\"Convert this dataframe to an interactive table.\"\n",
              "              style=\"display:none;\">\n",
              "        \n",
              "  <svg xmlns=\"http://www.w3.org/2000/svg\" height=\"24px\"viewBox=\"0 0 24 24\"\n",
              "       width=\"24px\">\n",
              "    <path d=\"M0 0h24v24H0V0z\" fill=\"none\"/>\n",
              "    <path d=\"M18.56 5.44l.94 2.06.94-2.06 2.06-.94-2.06-.94-.94-2.06-.94 2.06-2.06.94zm-11 1L8.5 8.5l.94-2.06 2.06-.94-2.06-.94L8.5 2.5l-.94 2.06-2.06.94zm10 10l.94 2.06.94-2.06 2.06-.94-2.06-.94-.94-2.06-.94 2.06-2.06.94z\"/><path d=\"M17.41 7.96l-1.37-1.37c-.4-.4-.92-.59-1.43-.59-.52 0-1.04.2-1.43.59L10.3 9.45l-7.72 7.72c-.78.78-.78 2.05 0 2.83L4 21.41c.39.39.9.59 1.41.59.51 0 1.02-.2 1.41-.59l7.78-7.78 2.81-2.81c.8-.78.8-2.07 0-2.86zM5.41 20L4 18.59l7.72-7.72 1.47 1.35L5.41 20z\"/>\n",
              "  </svg>\n",
              "      </button>\n",
              "      \n",
              "  <style>\n",
              "    .colab-df-container {\n",
              "      display:flex;\n",
              "      flex-wrap:wrap;\n",
              "      gap: 12px;\n",
              "    }\n",
              "\n",
              "    .colab-df-convert {\n",
              "      background-color: #E8F0FE;\n",
              "      border: none;\n",
              "      border-radius: 50%;\n",
              "      cursor: pointer;\n",
              "      display: none;\n",
              "      fill: #1967D2;\n",
              "      height: 32px;\n",
              "      padding: 0 0 0 0;\n",
              "      width: 32px;\n",
              "    }\n",
              "\n",
              "    .colab-df-convert:hover {\n",
              "      background-color: #E2EBFA;\n",
              "      box-shadow: 0px 1px 2px rgba(60, 64, 67, 0.3), 0px 1px 3px 1px rgba(60, 64, 67, 0.15);\n",
              "      fill: #174EA6;\n",
              "    }\n",
              "\n",
              "    [theme=dark] .colab-df-convert {\n",
              "      background-color: #3B4455;\n",
              "      fill: #D2E3FC;\n",
              "    }\n",
              "\n",
              "    [theme=dark] .colab-df-convert:hover {\n",
              "      background-color: #434B5C;\n",
              "      box-shadow: 0px 1px 3px 1px rgba(0, 0, 0, 0.15);\n",
              "      filter: drop-shadow(0px 1px 2px rgba(0, 0, 0, 0.3));\n",
              "      fill: #FFFFFF;\n",
              "    }\n",
              "  </style>\n",
              "\n",
              "      <script>\n",
              "        const buttonEl =\n",
              "          document.querySelector('#df-531f03ba-405b-4e7e-8793-4765476745bf button.colab-df-convert');\n",
              "        buttonEl.style.display =\n",
              "          google.colab.kernel.accessAllowed ? 'block' : 'none';\n",
              "\n",
              "        async function convertToInteractive(key) {\n",
              "          const element = document.querySelector('#df-531f03ba-405b-4e7e-8793-4765476745bf');\n",
              "          const dataTable =\n",
              "            await google.colab.kernel.invokeFunction('convertToInteractive',\n",
              "                                                     [key], {});\n",
              "          if (!dataTable) return;\n",
              "\n",
              "          const docLinkHtml = 'Like what you see? Visit the ' +\n",
              "            '<a target=\"_blank\" href=https://colab.research.google.com/notebooks/data_table.ipynb>data table notebook</a>'\n",
              "            + ' to learn more about interactive tables.';\n",
              "          element.innerHTML = '';\n",
              "          dataTable['output_type'] = 'display_data';\n",
              "          await google.colab.output.renderOutput(dataTable, element);\n",
              "          const docLink = document.createElement('div');\n",
              "          docLink.innerHTML = docLinkHtml;\n",
              "          element.appendChild(docLink);\n",
              "        }\n",
              "      </script>\n",
              "    </div>\n",
              "  </div>\n",
              "  "
            ]
          },
          "metadata": {},
          "execution_count": 16
        }
      ]
    },
    {
      "cell_type": "code",
      "metadata": {
        "id": "tR2CgoXNpCP1"
      },
      "source": [
        "# For Kaggle project submit\n",
        "# prepare test dataset\n",
        "# test_df = pd.read_csv('/content/drive/MyDrive/Colab Notebooks/reviews.test.unlabeled.csv')\n",
        "# test_df['overall'] = None\n",
        "# test_df.head()"
      ],
      "execution_count": null,
      "outputs": []
    },
    {
      "cell_type": "markdown",
      "metadata": {
        "id": "bxg0E4d1V2Bf"
      },
      "source": [
        "# Base Functions for Models"
      ]
    },
    {
      "cell_type": "code",
      "metadata": {
        "id": "UbdRVIICV--b"
      },
      "source": [
        "def grid_search_algo(data, algorithm, param_grid):\n",
        "  \"\"\" Return grid serach results with best paramter info\n",
        "\n",
        "  Performs GridSearchCV with 3 cross validation using RMSE measures\n",
        "  \"\"\"\n",
        "\n",
        "  gs = GridSearchCV(algorithm, param_grid, measures=['rmse'], cv=3, n_jobs=-1)\n",
        "  gs.fit(data)\n",
        "\n",
        "  # best RMSE score\n",
        "  print(gs.best_score['rmse'])\n",
        "\n",
        "  # combination of parameters that gave the best RMSE score\n",
        "  print(gs.best_params['rmse'])\n",
        "\n",
        "  return gs"
      ],
      "execution_count": null,
      "outputs": []
    },
    {
      "cell_type": "code",
      "source": [
        "def plot_grid_search(cv_results, grid_param_1, name_param_1, grid_param_2, name_param_2):\n",
        "  scores_mean = cv_results['mean_test_rmse']\n",
        "  scores_mean = np.array(scores_mean).reshape(len(grid_param_1), len(grid_param_2))\n",
        "\n",
        "  for ind, i in enumerate(grid_param_1):\n",
        "    plt.plot(grid_param_2, scores_mean[ind], label=name_param_1 + \": \" + str(i)) \n",
        "  plt.legend()\n",
        "  plt.xlabel(name_param_2)\n",
        "  plt.ylabel('Mean score')\n",
        "  plt.show()"
      ],
      "metadata": {
        "id": "S0QjzeN3S2AP"
      },
      "execution_count": null,
      "outputs": []
    },
    {
      "cell_type": "code",
      "source": [
        "def rate_diff_distribution(predictions, model_name):\n",
        "  dev_errors = []\n",
        "  for prediction in predictions:\n",
        "    dev_errors.append(abs(prediction.r_ui - prediction.est))\n",
        "\n",
        "  dev_errors_df = pd.DataFrame({\"diff\" : dev_errors})\n",
        "  dev_errors_df.head()\n",
        "  #  distributions over error cases\n",
        "  plt.subplots(1,1,figsize=(7,7))\n",
        "  dev_errors_df['diff'].hist()\n",
        "  plt.title(model_name)\n",
        "  baseline_df_error = dev_errors_df[dev_errors_df['diff'] > 1.5]\n",
        "  print(\"# of prediction error greater than 1.5: \" , baseline_df_error.shape[0])"
      ],
      "metadata": {
        "id": "mQdOiqLUS6Ag"
      },
      "execution_count": null,
      "outputs": []
    },
    {
      "cell_type": "markdown",
      "metadata": {
        "id": "mvRvCGQza2lW"
      },
      "source": [
        "# Baseline - Predict ratings from the movie's average rating\n"
      ]
    },
    {
      "cell_type": "code",
      "metadata": {
        "colab": {
          "base_uri": "https://localhost:8080/",
          "height": 187
        },
        "id": "hAobzOooa1qV",
        "outputId": "588f5b8e-6b3e-4ad9-b7e5-ccf2f5c19b10"
      },
      "source": [
        "# get mean overall from ratings per movie table\n",
        "ratings_per_movie_count.head()"
      ],
      "execution_count": null,
      "outputs": [
        {
          "output_type": "error",
          "ename": "NameError",
          "evalue": "ignored",
          "traceback": [
            "\u001b[0;31m---------------------------------------------------------------------------\u001b[0m",
            "\u001b[0;31mNameError\u001b[0m                                 Traceback (most recent call last)",
            "\u001b[0;32m<ipython-input-17-cded3e4f4063>\u001b[0m in \u001b[0;36m<module>\u001b[0;34m()\u001b[0m\n\u001b[1;32m      1\u001b[0m \u001b[0;31m# get mean overall from ratings per movie table\u001b[0m\u001b[0;34m\u001b[0m\u001b[0;34m\u001b[0m\u001b[0;34m\u001b[0m\u001b[0m\n\u001b[0;32m----> 2\u001b[0;31m \u001b[0mratings_per_movie_count\u001b[0m\u001b[0;34m.\u001b[0m\u001b[0mhead\u001b[0m\u001b[0;34m(\u001b[0m\u001b[0;34m)\u001b[0m\u001b[0;34m\u001b[0m\u001b[0;34m\u001b[0m\u001b[0m\n\u001b[0m",
            "\u001b[0;31mNameError\u001b[0m: name 'ratings_per_movie_count' is not defined"
          ]
        }
      ]
    },
    {
      "cell_type": "code",
      "metadata": {
        "id": "0CD2AcZAdyTz"
      },
      "source": [
        "# left join with ratings_per_movie_count table created in EDA\n",
        "dev_baseline_df = dev_df.merge(ratings_per_movie_count, on='asin', how='left')\n",
        "dev_baseline_df.head()"
      ],
      "execution_count": null,
      "outputs": []
    },
    {
      "cell_type": "code",
      "metadata": {
        "id": "6szRCiU1h3rs"
      },
      "source": [
        "# compute RMSE on the dev\n",
        "baseline_rmse = ((dev_baseline_df.overall_x - dev_baseline_df.overall_y) ** 2).mean() ** .5\n",
        "print(\"Baseline RMSE : %f\" % (baseline_rmse))"
      ],
      "execution_count": null,
      "outputs": []
    },
    {
      "cell_type": "code",
      "metadata": {
        "id": "huJM_rnM1Cm-"
      },
      "source": [
        "# find cases where predicted rating difference from the actual is greater than 1.5\n",
        "baseline_df_error = dev_baseline_df[abs(dev_baseline_df['overall_x']-dev_baseline_df['overall_y']) > 1.5]\n",
        "baseline_df_error.head()"
      ],
      "execution_count": null,
      "outputs": []
    },
    {
      "cell_type": "code",
      "metadata": {
        "id": "AOb9sFVm1Rdm"
      },
      "source": [
        "print(\"Total cases where predicted rating is off by more than 1.5 %d\" %(baseline_df_error.shape[0]))"
      ],
      "execution_count": null,
      "outputs": []
    },
    {
      "cell_type": "markdown",
      "metadata": {
        "id": "uiGKSMNupCP1"
      },
      "source": [
        "# Model 1 - Memory Based Collaborative Filtering -  CoClustering"
      ]
    },
    {
      "cell_type": "code",
      "metadata": {
        "id": "ENeIDxp8pCP2",
        "colab": {
          "base_uri": "https://localhost:8080/"
        },
        "outputId": "2c2a303d-bf5b-4849-b1f6-4e29bd928a78"
      },
      "source": [
        "# best param is {'n_cltr_u': 5, 'n_cltr_i': 5, 'n_epochs': 40}\n",
        "param_grid = {\n",
        "    'n_cltr_u' : [5, 10],\n",
        "    'n_cltr_i' : [5, 10],\n",
        "    'n_epochs': [40] }\n",
        "gs = grid_search_algo(train_data, CoClustering, param_grid)\n",
        "print(gs.cv_results)"
      ],
      "execution_count": null,
      "outputs": [
        {
          "output_type": "stream",
          "name": "stdout",
          "text": [
            "1.1002973233640567\n",
            "{'n_cltr_u': 5, 'n_cltr_i': 5, 'n_epochs': 40}\n",
            "{'split0_test_rmse': array([1.10504911, 1.1048023 , 1.10222781, 1.10966502]), 'split1_test_rmse': array([1.09853408, 1.1028523 , 1.10204383, 1.11095124]), 'split2_test_rmse': array([1.09730878, 1.10221211, 1.10194987, 1.10644278]), 'mean_test_rmse': array([1.10029732, 1.1032889 , 1.10207384, 1.10901968]), 'std_test_rmse': array([0.00339705, 0.00110158, 0.00011543, 0.0018963 ]), 'rank_test_rmse': array([1, 3, 2, 4]), 'mean_fit_time': array([103.75910878, 136.43504357, 132.60298808, 119.83764021]), 'std_fit_time': array([11.26001278,  4.33011835,  3.83639382, 28.0740688 ]), 'mean_test_time': array([5.81220468, 5.90325785, 6.32240407, 5.16388583]), 'std_test_time': array([0.88349361, 1.1217454 , 1.16293239, 1.81669696]), 'params': [{'n_cltr_u': 5, 'n_cltr_i': 5, 'n_epochs': 40}, {'n_cltr_u': 5, 'n_cltr_i': 10, 'n_epochs': 40}, {'n_cltr_u': 10, 'n_cltr_i': 5, 'n_epochs': 40}, {'n_cltr_u': 10, 'n_cltr_i': 10, 'n_epochs': 40}], 'param_n_cltr_u': [5, 5, 10, 10], 'param_n_cltr_i': [5, 10, 5, 10], 'param_n_epochs': [40, 40, 40, 40]}\n"
          ]
        }
      ]
    },
    {
      "cell_type": "code",
      "source": [
        "plot_grid_search(gs.cv_results, param_grid['n_cltr_u'], '# of user clusters', param_grid['n_cltr_i'], '# of item clusters')"
      ],
      "metadata": {
        "colab": {
          "base_uri": "https://localhost:8080/",
          "height": 279
        },
        "id": "baOqgGGkNv7p",
        "outputId": "d4a58f4c-b0dd-4535-af29-3290c7c07035"
      },
      "execution_count": null,
      "outputs": [
        {
          "output_type": "display_data",
          "data": {
            "text/plain": [
              "<Figure size 432x288 with 1 Axes>"
            ],
            "image/png": "[encoded data removed]"
          },
          "metadata": {
            "needs_background": "light"
          }
        }
      ]
    },
    {
      "cell_type": "code",
      "source": [
        "model_cc = CoClustering(n_cltr_u = 5, n_cltr_i = 5, n_epochs = 40)\n",
        "model_cc.fit(train_data.build_full_trainset())"
      ],
      "metadata": {
        "colab": {
          "base_uri": "https://localhost:8080/"
        },
        "id": "DVc0B-7ULJdz",
        "outputId": "15721f23-609c-49de-ccc5-df4275ebf276"
      },
      "execution_count": null,
      "outputs": [
        {
          "output_type": "stream",
          "name": "stderr",
          "text": [
            "/usr/local/lib/python3.7/dist-packages/ipykernel_launcher.py:2: DeprecationWarning: `np.int` is a deprecated alias for the builtin `int`. To silence this warning, use `int` by itself. Doing this will not modify any behavior and is safe. When replacing `np.int`, you may wish to use e.g. `np.int64` or `np.int32` to specify the precision. If you wish to review your current use, check the release note link for additional information.\n",
            "Deprecated in NumPy 1.20; for more details and guidance: https://numpy.org/devdocs/release/1.20.0-notes.html#deprecations\n",
            "  \n"
          ]
        },
        {
          "output_type": "execute_result",
          "data": {
            "text/plain": [
              "<surprise.prediction_algorithms.co_clustering.CoClustering at 0x7f71c9341050>"
            ]
          },
          "metadata": {},
          "execution_count": 26
        }
      ]
    },
    {
      "cell_type": "markdown",
      "source": [
        "## CoClustering - Evaluate on the validation data"
      ],
      "metadata": {
        "id": "5sx3guuU_az6"
      }
    },
    {
      "cell_type": "code",
      "source": [
        "predictions_cc = model_cc.test(devdataset_data)\n",
        "\n",
        "# Then compute RMSE\n",
        "dev_rmse_cc = rmse(predictions_cc)"
      ],
      "metadata": {
        "colab": {
          "base_uri": "https://localhost:8080/"
        },
        "id": "vOi_nYSc_Mkj",
        "outputId": "22cc22b7-9d1f-4d6c-de71-8b52ffad6b27"
      },
      "execution_count": null,
      "outputs": [
        {
          "output_type": "stream",
          "name": "stdout",
          "text": [
            "RMSE: 1.0705\n"
          ]
        }
      ]
    },
    {
      "cell_type": "code",
      "source": [
        "rate_diff_distribution(predictions_cc, 'CoClustering Prediction')"
      ],
      "metadata": {
        "colab": {
          "base_uri": "https://localhost:8080/",
          "height": 462
        },
        "id": "uICmWYmDBkWL",
        "outputId": "6ddae502-4084-4711-8a86-595f34c27d88"
      },
      "execution_count": null,
      "outputs": [
        {
          "output_type": "stream",
          "name": "stdout",
          "text": [
            "# of prediction error greater than 1.5:  25805\n"
          ]
        },
        {
          "output_type": "display_data",
          "data": {
            "text/plain": [
              "<Figure size 504x504 with 1 Axes>"
            ],
            "image/png": "[encoded data removed]"
          },
          "metadata": {
            "needs_background": "light"
          }
        }
      ]
    },
    {
      "cell_type": "markdown",
      "source": [
        "# Model x - KNN "
      ],
      "metadata": {
        "id": "Zem6eQokKiTj"
      }
    },
    {
      "cell_type": "code",
      "source": [
        "def evaluate_knn(data): \n",
        "    '''Item-based similarity chosen for this model.\n",
        "       In addition, similarity between two items will be set to zero if number of common users\n",
        "       per item is less than 5.\n",
        "    '''\n",
        "    sim_options = {'name': 'cosine',\n",
        "                   'min_support': 5,\n",
        "                   'user_based': False}\n",
        "    rmse_algorithm = []\n",
        "\n",
        "    for k in range(1, 20, 5):\n",
        "      # split the dataset into five folds for cross-validation\n",
        "      model = KNNWithMeans(k=k, min_k=1, sim_options=sim_options)\n",
        "      print(model)\n",
        "      knn_cv = cross_validate(model, data, measures=['RMSE'], cv=2, n_jobs=2, verbose=False)\n",
        "      print(knn_cv['test_rmse'])\n",
        "      #rmse_algorithm.append(knn_cv['test_rmse'].mean())\n",
        "    return rmse_algorithm"
      ],
      "metadata": {
        "id": "6uPtkdteyayb"
      },
      "execution_count": null,
      "outputs": []
    },
    {
      "cell_type": "code",
      "source": [
        "print(evaluate_knn(train_data))"
      ],
      "metadata": {
        "id": "7iBIxvm-WGDe"
      },
      "execution_count": null,
      "outputs": []
    },
    {
      "cell_type": "markdown",
      "metadata": {
        "id": "DjlvO9rTsh_O"
      },
      "source": [
        "Best fit param: {'n_cltr_u': 3, 'n_cltr_i': 3, 'n_epochs': 40}"
      ]
    },
    {
      "cell_type": "markdown",
      "metadata": {
        "id": "rfglX-s9pCP2"
      },
      "source": [
        "# Model 2 - Model Based Collaborative Filtering - SVD"
      ]
    },
    {
      "cell_type": "code",
      "metadata": {
        "id": "rf6rNIYcUxAa"
      },
      "source": [
        "\n",
        "def evaluate_algo(data, algorithm):\n",
        "  \"\"\" Return rmse results for different n latent factors\n",
        "\n",
        "  Evaluate algorithm with RMSE to find n_factors param\n",
        "  \"\"\"\n",
        "  rmse_algorithm = []\n",
        "  #  possible values of n_factors\n",
        "  for k in range(1, 51, 5):\n",
        "      algo = algorithm(n_factors = k)\n",
        "      # 3 folds\n",
        "      algo_perf = cross_validate(algo, data, measures=['RMSE'], cv=3, verbose=True)\n",
        "      rmse_algorithm.append(algo_perf['test_rmse'].mean())\n",
        "  return rmse_algorithm "
      ],
      "execution_count": null,
      "outputs": []
    },
    {
      "cell_type": "code",
      "metadata": {
        "id": "pokhnNJzpCP2"
      },
      "source": [
        "#print(evaluate_algo(train_data, SVD))"
      ],
      "execution_count": null,
      "outputs": []
    },
    {
      "cell_type": "code",
      "metadata": {
        "id": "LCK8kHCxWUiR",
        "colab": {
          "base_uri": "https://localhost:8080/"
        },
        "outputId": "285a43e7-4d31-4071-e336-6543806124a3"
      },
      "source": [
        "param_grid = {\n",
        "    # utilize evaluate_algo to find possible values for n_factors param\n",
        "    'n_factors': [10, 15, 20, 25, 30],\n",
        "    'n_epochs': [40],\n",
        "    'lr_all': [0.005, 0.01],\n",
        "    'reg_all': [0.02, 0.1]}\n",
        "gs = grid_search_algo(train_data, SVD, param_grid)\n",
        "print(gs.cv_results)"
      ],
      "execution_count": null,
      "outputs": [
        {
          "output_type": "stream",
          "name": "stdout",
          "text": [
            "1.015323311763278\n",
            "{'n_factors': 10, 'n_epochs': 40, 'lr_all': 0.005, 'reg_all': 0.1}\n",
            "{'split0_test_rmse': array([1.03108089, 1.01487809, 1.07768499, 1.02773555, 1.03433373,\n",
            "       1.01558666, 1.0805597 , 1.02826068, 1.03854552, 1.01582938,\n",
            "       1.0787012 , 1.02814743, 1.03972221, 1.01599628, 1.0770329 ,\n",
            "       1.02728829, 1.04038274, 1.01631313, 1.07381974, 1.0265786 ]), 'split1_test_rmse': array([1.03334101, 1.01630162, 1.0777495 , 1.0284351 , 1.03611678,\n",
            "       1.01654901, 1.07973631, 1.02764321, 1.03909189, 1.0170213 ,\n",
            "       1.08186256, 1.02805603, 1.04033264, 1.01709587, 1.07781366,\n",
            "       1.02801937, 1.04292466, 1.01772449, 1.07569636, 1.02695578]), 'split2_test_rmse': array([1.03147168, 1.01479023, 1.07728535, 1.02706158, 1.03531412,\n",
            "       1.01536045, 1.07965429, 1.02751592, 1.03696394, 1.01548538,\n",
            "       1.07888964, 1.0274243 , 1.03956366, 1.01617683, 1.0766303 ,\n",
            "       1.02723527, 1.04048778, 1.01623333, 1.07528272, 1.0270839 ]), 'mean_test_rmse': array([1.03196453, 1.01532331, 1.07757328, 1.02774408, 1.03525488,\n",
            "       1.01583204, 1.07998343, 1.0278066 , 1.03820045, 1.01611202,\n",
            "       1.0798178 , 1.02787592, 1.03987284, 1.01642299, 1.07715895,\n",
            "       1.02751431, 1.04126506, 1.01675698, 1.07493294, 1.02687276]), 'std_test_rmse': array([0.00098631, 0.0006927 , 0.0002053 , 0.00056077, 0.00072913,\n",
            "       0.00051532, 0.00040886, 0.00032526, 0.00090235, 0.00065812,\n",
            "       0.00144791, 0.00032152, 0.00033151, 0.00048147, 0.00049126,\n",
            "       0.00035779, 0.0011743 , 0.00068491, 0.00080506, 0.00021448]), 'rank_test_rmse': array([11,  1, 18,  8, 12,  2, 20,  9, 13,  3, 19, 10, 14,  4, 17,  7, 15,\n",
            "        5, 16,  6]), 'mean_fit_time': array([ 62.49304477,  65.04573719,  65.44266947,  65.10934877,\n",
            "        79.59306534,  80.85968526,  79.83266743,  80.97706803,\n",
            "        94.2728188 ,  94.60171938,  94.08612514,  94.89288433,\n",
            "       104.16427819, 102.99415191, 102.50512608, 102.87399872,\n",
            "       110.55144334, 108.71724041, 110.64089894,  87.71160142]), 'std_fit_time': array([ 3.44221153,  0.87058549,  1.3138388 ,  0.68937799,  1.82228849,\n",
            "        1.45384597,  1.36692938,  1.18640159,  1.74884066,  0.88145546,\n",
            "        0.42988251,  1.19900557,  0.6673492 ,  1.15609715,  0.28821589,\n",
            "        1.59518003,  1.46832876,  1.21199114,  1.53243189, 21.56750576]), 'mean_test_time': array([8.70868731, 8.91167649, 8.91474915, 8.93581971, 8.71071712,\n",
            "       8.88818367, 8.84346167, 8.72206418, 8.82456334, 8.93832111,\n",
            "       8.85925269, 9.75403953, 8.23553284, 7.46920085, 7.74561397,\n",
            "       7.57727234, 6.67774828, 7.97203199, 5.98982676, 5.310781  ]), 'std_test_time': array([0.27194181, 0.02358941, 0.2643563 , 0.23777139, 0.19555201,\n",
            "       0.09231499, 0.10665857, 0.28280957, 0.2213062 , 0.16483527,\n",
            "       0.1146854 , 0.75728768, 1.38104915, 1.28177294, 0.99398399,\n",
            "       1.12755228, 1.43936741, 1.73813253, 0.24850053, 1.15544387]), 'params': [{'n_factors': 10, 'n_epochs': 40, 'lr_all': 0.005, 'reg_all': 0.02}, {'n_factors': 10, 'n_epochs': 40, 'lr_all': 0.005, 'reg_all': 0.1}, {'n_factors': 10, 'n_epochs': 40, 'lr_all': 0.01, 'reg_all': 0.02}, {'n_factors': 10, 'n_epochs': 40, 'lr_all': 0.01, 'reg_all': 0.1}, {'n_factors': 15, 'n_epochs': 40, 'lr_all': 0.005, 'reg_all': 0.02}, {'n_factors': 15, 'n_epochs': 40, 'lr_all': 0.005, 'reg_all': 0.1}, {'n_factors': 15, 'n_epochs': 40, 'lr_all': 0.01, 'reg_all': 0.02}, {'n_factors': 15, 'n_epochs': 40, 'lr_all': 0.01, 'reg_all': 0.1}, {'n_factors': 20, 'n_epochs': 40, 'lr_all': 0.005, 'reg_all': 0.02}, {'n_factors': 20, 'n_epochs': 40, 'lr_all': 0.005, 'reg_all': 0.1}, {'n_factors': 20, 'n_epochs': 40, 'lr_all': 0.01, 'reg_all': 0.02}, {'n_factors': 20, 'n_epochs': 40, 'lr_all': 0.01, 'reg_all': 0.1}, {'n_factors': 25, 'n_epochs': 40, 'lr_all': 0.005, 'reg_all': 0.02}, {'n_factors': 25, 'n_epochs': 40, 'lr_all': 0.005, 'reg_all': 0.1}, {'n_factors': 25, 'n_epochs': 40, 'lr_all': 0.01, 'reg_all': 0.02}, {'n_factors': 25, 'n_epochs': 40, 'lr_all': 0.01, 'reg_all': 0.1}, {'n_factors': 30, 'n_epochs': 40, 'lr_all': 0.005, 'reg_all': 0.02}, {'n_factors': 30, 'n_epochs': 40, 'lr_all': 0.005, 'reg_all': 0.1}, {'n_factors': 30, 'n_epochs': 40, 'lr_all': 0.01, 'reg_all': 0.02}, {'n_factors': 30, 'n_epochs': 40, 'lr_all': 0.01, 'reg_all': 0.1}], 'param_n_factors': [10, 10, 10, 10, 15, 15, 15, 15, 20, 20, 20, 20, 25, 25, 25, 25, 30, 30, 30, 30], 'param_n_epochs': [40, 40, 40, 40, 40, 40, 40, 40, 40, 40, 40, 40, 40, 40, 40, 40, 40, 40, 40, 40], 'param_lr_all': [0.005, 0.005, 0.01, 0.01, 0.005, 0.005, 0.01, 0.01, 0.005, 0.005, 0.01, 0.01, 0.005, 0.005, 0.01, 0.01, 0.005, 0.005, 0.01, 0.01], 'param_reg_all': [0.02, 0.1, 0.02, 0.1, 0.02, 0.1, 0.02, 0.1, 0.02, 0.1, 0.02, 0.1, 0.02, 0.1, 0.02, 0.1, 0.02, 0.1, 0.02, 0.1]}\n"
          ]
        }
      ]
    },
    {
      "cell_type": "markdown",
      "metadata": {
        "id": "wP-fMLmfs7yB"
      },
      "source": [
        "GridSearch with 3 folds shows that the best fit parameters for SVD is as below.\n",
        "\n",
        "* {'n_factors': 10, 'n_epochs': 40, 'lr_all': 0.005, 'reg_all': 0.1}\n",
        "\n",
        "* RMSE on test folds : 1.015649335610912"
      ]
    },
    {
      "cell_type": "code",
      "metadata": {
        "colab": {
          "base_uri": "https://localhost:8080/",
          "height": 353
        },
        "id": "O3NNR_sKpCP3",
        "outputId": "2f7433b1-4b73-495b-d767-12826df11e91"
      },
      "source": [
        "#algo = gs.best_estimator['rmse']\n",
        "model_svd = SVD(n_factors=10, n_epochs=40, lr_all=0.005, reg_all=0.1)\n",
        "model_svd.fit(train_data.build_full_trainset())"
      ],
      "execution_count": null,
      "outputs": [
        {
          "output_type": "error",
          "ename": "KeyboardInterrupt",
          "evalue": "ignored",
          "traceback": [
            "\u001b[0;31m---------------------------------------------------------------------------\u001b[0m",
            "\u001b[0;31mKeyboardInterrupt\u001b[0m                         Traceback (most recent call last)",
            "\u001b[0;32m<ipython-input-51-64a7ab5ff83e>\u001b[0m in \u001b[0;36m<module>\u001b[0;34m()\u001b[0m\n\u001b[1;32m      1\u001b[0m \u001b[0;31m#algo = gs.best_estimator['rmse']\u001b[0m\u001b[0;34m\u001b[0m\u001b[0;34m\u001b[0m\u001b[0;34m\u001b[0m\u001b[0m\n\u001b[1;32m      2\u001b[0m \u001b[0mmodel_svd\u001b[0m \u001b[0;34m=\u001b[0m \u001b[0mSVD\u001b[0m\u001b[0;34m(\u001b[0m\u001b[0mn_factors\u001b[0m\u001b[0;34m=\u001b[0m\u001b[0;36m10\u001b[0m\u001b[0;34m,\u001b[0m \u001b[0mn_epochs\u001b[0m\u001b[0;34m=\u001b[0m\u001b[0;36m40\u001b[0m\u001b[0;34m,\u001b[0m \u001b[0mlr_all\u001b[0m\u001b[0;34m=\u001b[0m\u001b[0;36m0.005\u001b[0m\u001b[0;34m,\u001b[0m \u001b[0mreg_all\u001b[0m\u001b[0;34m=\u001b[0m\u001b[0;36m0.1\u001b[0m\u001b[0;34m)\u001b[0m\u001b[0;34m\u001b[0m\u001b[0;34m\u001b[0m\u001b[0m\n\u001b[0;32m----> 3\u001b[0;31m \u001b[0mmodel_svd\u001b[0m\u001b[0;34m.\u001b[0m\u001b[0mfit\u001b[0m\u001b[0;34m(\u001b[0m\u001b[0mtrain_data\u001b[0m\u001b[0;34m.\u001b[0m\u001b[0mbuild_full_trainset\u001b[0m\u001b[0;34m(\u001b[0m\u001b[0;34m)\u001b[0m\u001b[0;34m)\u001b[0m\u001b[0;34m\u001b[0m\u001b[0;34m\u001b[0m\u001b[0m\n\u001b[0m",
            "\u001b[0;32m/usr/local/lib/python3.7/dist-packages/surprise/prediction_algorithms/matrix_factorization.pyx\u001b[0m in \u001b[0;36msurprise.prediction_algorithms.matrix_factorization.SVD.fit\u001b[0;34m()\u001b[0m\n",
            "\u001b[0;32m/usr/local/lib/python3.7/dist-packages/surprise/prediction_algorithms/matrix_factorization.pyx\u001b[0m in \u001b[0;36msurprise.prediction_algorithms.matrix_factorization.SVD.sgd\u001b[0;34m()\u001b[0m\n",
            "\u001b[0;32m/usr/local/lib/python3.7/dist-packages/surprise/trainset.py\u001b[0m in \u001b[0;36mglobal_mean\u001b[0;34m(self)\u001b[0m\n\u001b[1;32m    253\u001b[0m         \u001b[0;32mif\u001b[0m \u001b[0mself\u001b[0m\u001b[0;34m.\u001b[0m\u001b[0m_global_mean\u001b[0m \u001b[0;32mis\u001b[0m \u001b[0;32mNone\u001b[0m\u001b[0;34m:\u001b[0m\u001b[0;34m\u001b[0m\u001b[0;34m\u001b[0m\u001b[0m\n\u001b[1;32m    254\u001b[0m             self._global_mean = np.mean([r for (_, _, r) in\n\u001b[0;32m--> 255\u001b[0;31m                                          self.all_ratings()])\n\u001b[0m\u001b[1;32m    256\u001b[0m \u001b[0;34m\u001b[0m\u001b[0m\n\u001b[1;32m    257\u001b[0m         \u001b[0;32mreturn\u001b[0m \u001b[0mself\u001b[0m\u001b[0;34m.\u001b[0m\u001b[0m_global_mean\u001b[0m\u001b[0;34m\u001b[0m\u001b[0;34m\u001b[0m\u001b[0m\n",
            "\u001b[0;32m/usr/local/lib/python3.7/dist-packages/surprise/trainset.py\u001b[0m in \u001b[0;36m<listcomp>\u001b[0;34m(.0)\u001b[0m\n\u001b[1;32m    252\u001b[0m     \u001b[0;32mdef\u001b[0m \u001b[0mglobal_mean\u001b[0m\u001b[0;34m(\u001b[0m\u001b[0mself\u001b[0m\u001b[0;34m)\u001b[0m\u001b[0;34m:\u001b[0m\u001b[0;34m\u001b[0m\u001b[0;34m\u001b[0m\u001b[0m\n\u001b[1;32m    253\u001b[0m         \u001b[0;32mif\u001b[0m \u001b[0mself\u001b[0m\u001b[0;34m.\u001b[0m\u001b[0m_global_mean\u001b[0m \u001b[0;32mis\u001b[0m \u001b[0;32mNone\u001b[0m\u001b[0;34m:\u001b[0m\u001b[0;34m\u001b[0m\u001b[0;34m\u001b[0m\u001b[0m\n\u001b[0;32m--> 254\u001b[0;31m             self._global_mean = np.mean([r for (_, _, r) in\n\u001b[0m\u001b[1;32m    255\u001b[0m                                          self.all_ratings()])\n\u001b[1;32m    256\u001b[0m \u001b[0;34m\u001b[0m\u001b[0m\n",
            "\u001b[0;32m/usr/local/lib/python3.7/dist-packages/surprise/trainset.py\u001b[0m in \u001b[0;36mall_ratings\u001b[0;34m(self)\u001b[0m\n\u001b[1;32m    186\u001b[0m \u001b[0;34m\u001b[0m\u001b[0m\n\u001b[1;32m    187\u001b[0m         \u001b[0;32mfor\u001b[0m \u001b[0mu\u001b[0m\u001b[0;34m,\u001b[0m \u001b[0mu_ratings\u001b[0m \u001b[0;32min\u001b[0m \u001b[0miteritems\u001b[0m\u001b[0;34m(\u001b[0m\u001b[0mself\u001b[0m\u001b[0;34m.\u001b[0m\u001b[0mur\u001b[0m\u001b[0;34m)\u001b[0m\u001b[0;34m:\u001b[0m\u001b[0;34m\u001b[0m\u001b[0;34m\u001b[0m\u001b[0m\n\u001b[0;32m--> 188\u001b[0;31m             \u001b[0;32mfor\u001b[0m \u001b[0mi\u001b[0m\u001b[0;34m,\u001b[0m \u001b[0mr\u001b[0m \u001b[0;32min\u001b[0m \u001b[0mu_ratings\u001b[0m\u001b[0;34m:\u001b[0m\u001b[0;34m\u001b[0m\u001b[0;34m\u001b[0m\u001b[0m\n\u001b[0m\u001b[1;32m    189\u001b[0m                 \u001b[0;32myield\u001b[0m \u001b[0mu\u001b[0m\u001b[0;34m,\u001b[0m \u001b[0mi\u001b[0m\u001b[0;34m,\u001b[0m \u001b[0mr\u001b[0m\u001b[0;34m\u001b[0m\u001b[0;34m\u001b[0m\u001b[0m\n\u001b[1;32m    190\u001b[0m \u001b[0;34m\u001b[0m\u001b[0m\n",
            "\u001b[0;31mKeyboardInterrupt\u001b[0m: "
          ]
        }
      ]
    },
    {
      "cell_type": "markdown",
      "metadata": {
        "id": "SzL7Juj5frzH"
      },
      "source": [
        "## SVD - Evaluate on the validation data"
      ]
    },
    {
      "cell_type": "code",
      "metadata": {
        "id": "WHyWaVCJfl1j",
        "colab": {
          "base_uri": "https://localhost:8080/"
        },
        "outputId": "511aa791-47a1-4fbc-bfa3-84378821366c"
      },
      "source": [
        "print(\"dev shape: %s\" % (dev_df.shape,))\n",
        "# evaluate on the validation data (Dev Data)\n",
        "predictions_svd = model_svd.test(devdataset_data)\n",
        "\n",
        "# Then compute RMSE\n",
        "dev_rmse_svd = rmse(predictions_svd)"
      ],
      "execution_count": null,
      "outputs": [
        {
          "output_type": "stream",
          "name": "stdout",
          "text": [
            "dev shape: (169753, 3)\n",
            "RMSE: 1.0005\n"
          ]
        }
      ]
    },
    {
      "cell_type": "code",
      "source": [
        "rate_diff_distribution(predictions_svd)"
      ],
      "metadata": {
        "id": "9N8hR6y2T4dU"
      },
      "execution_count": null,
      "outputs": []
    },
    {
      "cell_type": "markdown",
      "metadata": {
        "id": "g1uVMhvCd8SP"
      },
      "source": [
        "# Discussion and Results"
      ]
    },
    {
      "cell_type": "code",
      "source": [
        "df = pd.DataFrame({'model':['Baseline', 'CoClustering', 'SVD'], 'RMSE':[baseline_rmse, dev_rmse_cc, dev_rmse_svd]})\n",
        "ax = df.plot.bar(x='model', y='RMSE', rot=0)"
      ],
      "metadata": {
        "id": "O_AJerSNRYvZ"
      },
      "execution_count": null,
      "outputs": []
    },
    {
      "cell_type": "markdown",
      "metadata": {
        "id": "8j38uS5Id_Pv"
      },
      "source": [
        "- This project recommend movies to user by predicting ratings for a given user and movie set. Coclustering and a well known collaborative filtering algorithm, Funk SVD models are built, and the results are compared to the baseline which is just average over all ratings for each movie. Parameters for each model are selected using the grid search and those that have the least RMSE over the cross validations.\n",
        "\n",
        "- About dataset\n",
        "  - Train data size: 1,358,026, about 50000 unique movies, 123952 unique movies\n",
        "  - Test data size 169,753\n",
        "\n",
        "- Coclustering prameters: TBD\n",
        "- SVD Parameters: 10 factors and 3 cross validations\n",
        "\n",
        "- Results\n",
        "  - Coclustering RMSE: 1.071 SVD RMSE: 1.000, Baseline RMSE: 1.104\n",
        "  - SVD performed slightly better than the basleine and the coclustering model. RMSE indicates that in average both models had about 1 rating off from the actual with having the scale from 1 to 5\n",
        "- Error Analysis\n",
        "  - Cases where the difference between actual and predicted values are greater than 1.5 -> Coclustering: 25842 SVD: 20567 cases baseline: 24781 cases\n"
      ]
    },
    {
      "cell_type": "markdown",
      "metadata": {
        "id": "wpzSRxn4eVsi"
      },
      "source": [
        "# Challenges and Future Works\n",
        "- EDA shows that in most cases movies only get ratings from a few users. This aligns with the real world that users only see selected number of movies out of total movies. This can be problem in using SVD since a user-movie matrix is highly sparse and there would be many missing items to find latent factors. In a real case, it would make more sense to build a hybrid model which would use SVD on dense users and popular movies and predict ratings of unpopular movies based on their historical averages or their contents/meta information.\n",
        "- It would be interesting to take account timestamp information in a model"
      ]
    },
    {
      "cell_type": "markdown",
      "metadata": {
        "id": "oj0s8DGWxzvo"
      },
      "source": [
        "# Kaggle submission Test data"
      ]
    },
    {
      "cell_type": "code",
      "metadata": {
        "collapsed": true,
        "id": "FmC5OL-ppCP3"
      },
      "source": [
        "for i, row in test_df.iterrows():\n",
        "    row['overall'] = round(algo.predict(row['reviewerID'], row['asin']).est)\n",
        "test_df.head()\n",
        "header = ['datapointID', 'overall']\n",
        "test_df.to_csv('reviews.test.labeled_v3.csv', columns=header, index=False)"
      ],
      "execution_count": null,
      "outputs": []
    },
    {
      "cell_type": "code",
      "metadata": {
        "id": "ptHsGFuzpCP4"
      },
      "source": [
        "dev_df = pd.read_csv('reviews.dev.csv')\n",
        "preds = []\n",
        "for i, row in dev_df.iterrows():\n",
        "    preds.append(algo.predict(row['reviewerID'], row['asin']).est)\n",
        "\n",
        "dev_df['preds'] = pd.Series(preds, index=dev_df.index)\n",
        "dev_df.head()"
      ],
      "execution_count": null,
      "outputs": []
    }
  ]
}